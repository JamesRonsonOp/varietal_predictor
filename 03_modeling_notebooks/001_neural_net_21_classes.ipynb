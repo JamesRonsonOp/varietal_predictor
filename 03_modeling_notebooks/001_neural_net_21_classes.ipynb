{
  "nbformat": 4,
  "nbformat_minor": 0,
  "metadata": {
    "kernelspec": {
      "display_name": "Python 3",
      "language": "python",
      "name": "python3"
    },
    "language_info": {
      "codemirror_mode": {
        "name": "ipython",
        "version": 3
      },
      "file_extension": ".py",
      "mimetype": "text/x-python",
      "name": "python",
      "nbconvert_exporter": "python",
      "pygments_lexer": "ipython3",
      "version": "3.8.3"
    },
    "colab": {
      "name": "21_neural_net.ipynb",
      "provenance": [],
      "collapsed_sections": [],
      "machine_shape": "hm",
      "include_colab_link": true
    },
    "accelerator": "TPU"
  },
  "cells": [
    {
      "cell_type": "markdown",
      "metadata": {
        "id": "view-in-github",
        "colab_type": "text"
      },
      "source": [
        "<a href=\"https://colab.research.google.com/github/JamesRonsonOp/varietal_predictor/blob/main/03_modeling_notebooks/001_neural_net_21_classes.ipynb\" target=\"_parent\"><img src=\"https://colab.research.google.com/assets/colab-badge.svg\" alt=\"Open In Colab\"/></a>"
      ]
    },
    {
      "cell_type": "markdown",
      "metadata": {
        "id": "MN-4BBxRHy0r"
      },
      "source": [
        "_______\n",
        "# About This Notebook\n",
        "_______\n",
        "\n",
        "This notebook takes in data housed on github that was preprocessed in a previous notebook dedicated to preprocessing and EDA. \n",
        "\n",
        "### This Notebook Performs the following Functions: \n",
        "\n",
        "* 1. Creates a CNN Neural Net\n",
        "* 2. Plots a CNN Neural Net\n",
        "\n",
        "____\n",
        "### Content Links\n",
        "____\n",
        "\n",
        "* [Baseline](#base)\n",
        "* [Data Preparation](#prep)\n",
        "* [Sparseness Analysis](#sparse)\n",
        "* [Neural Net Creation](#instance)\n",
        "* [Compiling Neural Net](#compile)\n",
        "* [Layer Summary](#summary)\n",
        "* [Fitting Neural Net](#fit)\n",
        "* [Results Plot](#plot)\n",
        "\n"
      ]
    },
    {
      "cell_type": "markdown",
      "metadata": {
        "id": "ORZ_zzJLjMEV"
      },
      "source": [
        "_______\n",
        "### Imports\n",
        "______\n"
      ]
    },
    {
      "cell_type": "code",
      "metadata": {
        "id": "sUcwDaHHHy0t"
      },
      "source": [
        "# Standard Imports\n",
        "import pandas as pd\n",
        "import numpy as np\n",
        "\n",
        "# Importing Visualization Libraries\n",
        "import matplotlib.pyplot as plt\n",
        "import seaborn as sns\n",
        "\n",
        "# SKLearn Libraries\n",
        "from sklearn.feature_extraction.text import CountVectorizer, TfidfVectorizer\n",
        "from sklearn.preprocessing import LabelEncoder\n",
        "\n",
        "\n",
        "# Tensorflow/Keras Libraries\n",
        "import tensorflow as tf\n",
        "from tensorflow.keras.preprocessing import sequence\n",
        "from tensorflow.keras.preprocessing.text import Tokenizer\n"
      ],
      "execution_count": null,
      "outputs": []
    },
    {
      "cell_type": "markdown",
      "metadata": {
        "id": "QclIwFDdHy0v"
      },
      "source": [
        "_______\n",
        "### Read in Data\n",
        "_______"
      ]
    },
    {
      "cell_type": "code",
      "metadata": {
        "id": "QZmcTJNxHy0w"
      },
      "source": [
        "# Reading data from github raw csv\n",
        "wine_df = pd.read_csv('https://raw.githubusercontent.com/JamesRonsonOp/capstone/main/data/003_preprocessed_all_data%20copy.csv')"
      ],
      "execution_count": null,
      "outputs": []
    },
    {
      "cell_type": "code",
      "metadata": {
        "colab": {
          "base_uri": "https://localhost:8080/",
          "height": 289
        },
        "id": "Vav626KVHy0x",
        "outputId": "e5c72514-6a8b-4acf-cb12-efc6524b71ec"
      },
      "source": [
        "wine_df.head()"
      ],
      "execution_count": null,
      "outputs": [
        {
          "output_type": "execute_result",
          "data": {
            "text/html": [
              "<div>\n",
              "<style scoped>\n",
              "    .dataframe tbody tr th:only-of-type {\n",
              "        vertical-align: middle;\n",
              "    }\n",
              "\n",
              "    .dataframe tbody tr th {\n",
              "        vertical-align: top;\n",
              "    }\n",
              "\n",
              "    .dataframe thead th {\n",
              "        text-align: right;\n",
              "    }\n",
              "</style>\n",
              "<table border=\"1\" class=\"dataframe\">\n",
              "  <thead>\n",
              "    <tr style=\"text-align: right;\">\n",
              "      <th></th>\n",
              "      <th>varietal</th>\n",
              "      <th>description</th>\n",
              "      <th>color</th>\n",
              "      <th>parsed</th>\n",
              "      <th>parsed_w_stops</th>\n",
              "    </tr>\n",
              "  </thead>\n",
              "  <tbody>\n",
              "    <tr>\n",
              "      <th>0</th>\n",
              "      <td>Riesling</td>\n",
              "      <td>pineapple rind lemon pith blossom start bit op...</td>\n",
              "      <td>white</td>\n",
              "      <td>pineapple rind lemon pith and orange blossom s...</td>\n",
              "      <td>pineapple rind lemon pith blossom start bit op...</td>\n",
              "    </tr>\n",
              "    <tr>\n",
              "      <th>1</th>\n",
              "      <td>Gewurztraminer</td>\n",
              "      <td>restrained profusion balanced acidity firm tex...</td>\n",
              "      <td>white</td>\n",
              "      <td>this dry and restrained wine offers spice in p...</td>\n",
              "      <td>restrained profusion balanced acidity firm tex...</td>\n",
              "    </tr>\n",
              "    <tr>\n",
              "      <th>2</th>\n",
              "      <td>Gewurztraminer</td>\n",
              "      <td>savory dried thyme accent sunnier preserved br...</td>\n",
              "      <td>white</td>\n",
              "      <td>savory dried thyme notes accent sunnier flavor...</td>\n",
              "      <td>savory dried thyme accent sunnier preserved br...</td>\n",
              "    </tr>\n",
              "    <tr>\n",
              "      <th>3</th>\n",
              "      <td>Gewurztraminer</td>\n",
              "      <td>tight taut texture strongly layered aftertaste</td>\n",
              "      <td>white</td>\n",
              "      <td>this is a dry wine very spicy with a tight tau...</td>\n",
              "      <td>tight taut texture strongly layered aftertaste</td>\n",
              "    </tr>\n",
              "    <tr>\n",
              "      <th>4</th>\n",
              "      <td>Chardonnay</td>\n",
              "      <td>building trends leaner buttercream aroma every...</td>\n",
              "      <td>white</td>\n",
              "      <td>building on years and six generations of winem...</td>\n",
              "      <td>building trends leaner buttercream aroma every...</td>\n",
              "    </tr>\n",
              "  </tbody>\n",
              "</table>\n",
              "</div>"
            ],
            "text/plain": [
              "         varietal  ...                                     parsed_w_stops\n",
              "0        Riesling  ...  pineapple rind lemon pith blossom start bit op...\n",
              "1  Gewurztraminer  ...  restrained profusion balanced acidity firm tex...\n",
              "2  Gewurztraminer  ...  savory dried thyme accent sunnier preserved br...\n",
              "3  Gewurztraminer  ...     tight taut texture strongly layered aftertaste\n",
              "4      Chardonnay  ...  building trends leaner buttercream aroma every...\n",
              "\n",
              "[5 rows x 5 columns]"
            ]
          },
          "metadata": {
            "tags": []
          },
          "execution_count": 4
        }
      ]
    },
    {
      "cell_type": "code",
      "metadata": {
        "colab": {
          "base_uri": "https://localhost:8080/"
        },
        "id": "SuzKFXa8Hy01",
        "outputId": "ee071a94-2e5f-4eae-b23c-b4e5dc930dee"
      },
      "source": [
        "wine_df['varietal'].value_counts()"
      ],
      "execution_count": null,
      "outputs": [
        {
          "output_type": "execute_result",
          "data": {
            "text/plain": [
              "Cabernet Sauvignon    15199\n",
              "Pinot Noir            12193\n",
              "Chardonnay            10779\n",
              "Riesling               4759\n",
              "Syrah                  4606\n",
              "Sauvignon Blanc        4545\n",
              "Merlot                 2887\n",
              "Nebbiolo               2594\n",
              "Zinfandel              2524\n",
              "Sangiovese             2456\n",
              "Malbec                 2446\n",
              "Tempranillo            2219\n",
              "Gruner Veltliner       1196\n",
              "Pinot Grigio            978\n",
              "Gewurztraminer          937\n",
              "Viognier                919\n",
              "Grenache                605\n",
              "Glera                   596\n",
              "Chenin Blanc            543\n",
              "Albarino                434\n",
              "Garganega               244\n",
              "Name: varietal, dtype: int64"
            ]
          },
          "metadata": {
            "tags": []
          },
          "execution_count": 5
        }
      ]
    },
    {
      "cell_type": "markdown",
      "metadata": {
        "id": "-hSnKNLQXPz6"
      },
      "source": [
        "_____\n",
        "**Remove Nulls**\n",
        "Somehow nulls leaked into my data despite the fact that prior to exporting from last notebook they had no nulls. Not sure how this happened but I am removing the nulls here. \n",
        "____"
      ]
    },
    {
      "cell_type": "code",
      "metadata": {
        "colab": {
          "base_uri": "https://localhost:8080/"
        },
        "id": "urYpXDaFHy0-",
        "outputId": "c30b3dc7-2185-48d9-c904-a026b4d2ebcd"
      },
      "source": [
        "wine_df.isna().sum()"
      ],
      "execution_count": null,
      "outputs": [
        {
          "output_type": "execute_result",
          "data": {
            "text/plain": [
              "varietal          0\n",
              "description       6\n",
              "color             0\n",
              "parsed            0\n",
              "parsed_w_stops    6\n",
              "dtype: int64"
            ]
          },
          "metadata": {
            "tags": []
          },
          "execution_count": 6
        }
      ]
    },
    {
      "cell_type": "code",
      "metadata": {
        "id": "mBEomWZzp8cA",
        "colab": {
          "base_uri": "https://localhost:8080/"
        },
        "outputId": "6cc9303a-8a14-4e6a-9fab-f1e196289287"
      },
      "source": [
        "wine_df.dropna(inplace = True)\n",
        "wine_df.isna().sum()"
      ],
      "execution_count": null,
      "outputs": [
        {
          "output_type": "execute_result",
          "data": {
            "text/plain": [
              "varietal          0\n",
              "description       0\n",
              "color             0\n",
              "parsed            0\n",
              "parsed_w_stops    0\n",
              "dtype: int64"
            ]
          },
          "metadata": {
            "tags": []
          },
          "execution_count": 7
        }
      ]
    },
    {
      "cell_type": "code",
      "metadata": {
        "id": "LmfFV5SE1BVE"
      },
      "source": [
        "wine_df['parsed'] = wine_df['parsed'] + ' ' + wine_df['color']"
      ],
      "execution_count": null,
      "outputs": []
    },
    {
      "cell_type": "markdown",
      "metadata": {
        "id": "lQyRxdo9Hy1O"
      },
      "source": [
        "<a id='base'></a>\n",
        "<a name=\"base\"></a>\n",
        "____\n",
        "### Baseline Model For Multi-Class Classification\n",
        "____\n",
        "\n",
        "Guessing at random would give us the following probabilities of predicting each class"
      ]
    },
    {
      "cell_type": "code",
      "metadata": {
        "colab": {
          "base_uri": "https://localhost:8080/"
        },
        "id": "2NMn-epYHy1P",
        "outputId": "24b5232d-cfe9-40a8-f3be-d336ac7cdefa"
      },
      "source": [
        "wine_df['varietal'].value_counts(normalize = True)"
      ],
      "execution_count": null,
      "outputs": [
        {
          "output_type": "execute_result",
          "data": {
            "text/plain": [
              "Cabernet Sauvignon    0.206332\n",
              "Pinot Noir            0.165533\n",
              "Chardonnay            0.146348\n",
              "Riesling              0.064614\n",
              "Syrah                 0.062536\n",
              "Sauvignon Blanc       0.061708\n",
              "Merlot                0.039197\n",
              "Nebbiolo              0.035219\n",
              "Zinfandel             0.034255\n",
              "Sangiovese            0.033332\n",
              "Malbec                0.033210\n",
              "Tempranillo           0.030128\n",
              "Gruner Veltliner      0.016238\n",
              "Pinot Grigio          0.013278\n",
              "Gewurztraminer        0.012722\n",
              "Viognier              0.012477\n",
              "Grenache              0.008201\n",
              "Glera                 0.008092\n",
              "Chenin Blanc          0.007372\n",
              "Albarino              0.005892\n",
              "Garganega             0.003313\n",
              "Name: varietal, dtype: float64"
            ]
          },
          "metadata": {
            "tags": []
          },
          "execution_count": 9
        }
      ]
    },
    {
      "cell_type": "markdown",
      "metadata": {
        "id": "aN1_0E_koCeJ"
      },
      "source": [
        "<a id='prep'></a>\n",
        "<a name=\"prep\"></a>\n",
        "____\n",
        "# Data Preparation\n",
        "____\n"
      ]
    },
    {
      "cell_type": "markdown",
      "metadata": {
        "id": "Q94rwjRI07Qe"
      },
      "source": [
        "_____\n",
        "### Tokenizing The Target Column\n",
        "____\n",
        "\n",
        "This tokenizer was also a good parameter to adjust to make the neural net function. tens of thousands of features were reduce to just a couple of thousand. "
      ]
    },
    {
      "cell_type": "code",
      "metadata": {
        "id": "jqYGcEudRCYv"
      },
      "source": [
        "# instantiate keras tokenizer\n",
        "token = Tokenizer(num_words = 2000, oov_token = '<OOV>')\n",
        "# fit keras tokenizer of predictors column\n",
        "token.fit_on_texts(wine_df['parsed'])\n"
      ],
      "execution_count": null,
      "outputs": []
    },
    {
      "cell_type": "markdown",
      "metadata": {
        "id": "5MM-44d62JPO"
      },
      "source": [
        "____\n",
        "### Creating Vectors that match in shape\n",
        "_____\n",
        "\n"
      ]
    },
    {
      "cell_type": "code",
      "metadata": {
        "id": "CNP8hPbXcxqi",
        "colab": {
          "base_uri": "https://localhost:8080/"
        },
        "outputId": "2ac658f5-f675-4142-e049-0c2940e04354"
      },
      "source": [
        "max_len = 0\n",
        "input_sequences = []\n",
        "for d in wine_df['parsed']:\n",
        "    # takes in a list of texts (from 'token') and returns a list of strings\n",
        "    token_list = token.texts_to_sequences([d])[0]\n",
        "    # appending tokens to input_sequences\n",
        "    input_sequences.append(token_list)\n",
        "    # creating a variable that identifies the length of each description 'd'\n",
        "    num = len(d)\n",
        "    # if the number above is > than max_len value rename max_len to that number\n",
        "    if num > max_len:\n",
        "        max_len = num\n",
        "\n",
        "# print max_len just to see what max_num is. \n",
        "print(max_len)"
      ],
      "execution_count": null,
      "outputs": [
        {
          "output_type": "stream",
          "text": [
            "739\n"
          ],
          "name": "stdout"
        }
      ]
    },
    {
      "cell_type": "code",
      "metadata": {
        "id": "7ZOCwIyiOM5x"
      },
      "source": [
        "# padding the length of all descriptions\n",
        "# by adding zeros to the length. \n",
        "input_sequences = sequence.pad_sequences(input_sequences,maxlen=max_len)\n",
        "\n"
      ],
      "execution_count": null,
      "outputs": []
    },
    {
      "cell_type": "markdown",
      "metadata": {
        "id": "9wqiJ6Ql1zRY"
      },
      "source": [
        "______\n",
        "### Creating and Encoding Targets\n",
        "_____"
      ]
    },
    {
      "cell_type": "code",
      "metadata": {
        "id": "5MMv2Nr8i0Bb"
      },
      "source": [
        "# Creating target\n",
        "y = wine_df['varietal']"
      ],
      "execution_count": null,
      "outputs": []
    },
    {
      "cell_type": "code",
      "metadata": {
        "id": "HWs8ZvTDV2im"
      },
      "source": [
        "# label encoding target\n",
        "le = LabelEncoder()\n",
        "y = le.fit_transform(y)"
      ],
      "execution_count": null,
      "outputs": []
    },
    {
      "cell_type": "markdown",
      "metadata": {
        "id": "xBURxjxrZvhg"
      },
      "source": [
        "____\n",
        "### Train/Test Split\n",
        "_____\n",
        "\n",
        "With shuffling to ensure randomness in split. "
      ]
    },
    {
      "cell_type": "code",
      "metadata": {
        "id": "9c2Cr9hhVFMT"
      },
      "source": [
        " # creating X and y and also...\n",
        " # shuffling target and predictors to ensure randomness in the train/test splits\n",
        " X = tf.random.shuffle(input_sequences, seed=42)\n",
        " y = tf.random.shuffle(y, seed=42)\n"
      ],
      "execution_count": null,
      "outputs": []
    },
    {
      "cell_type": "code",
      "metadata": {
        "id": "PYf1mR6iQk8W"
      },
      "source": [
        "# creating train/split ratio\n",
        "train_index = int(len(input_sequences) * .7)\n",
        "\n",
        "# creating training and validation datasets for targets and predictors\n",
        "X_train = X[0:train_index]\n",
        "X_test = X[train_index: ]\n",
        "y_train = y[0:train_index]\n",
        "y_test = y[train_index:]"
      ],
      "execution_count": null,
      "outputs": []
    },
    {
      "cell_type": "markdown",
      "metadata": {
        "id": "ssTtgQ6OaAB0"
      },
      "source": [
        "<a id='sparse'></a>\n",
        "<a name=\"sparse\"></a>\n",
        "____\n",
        "### Analyzing the Sparseness in the Data\n",
        "_____"
      ]
    },
    {
      "cell_type": "code",
      "metadata": {
        "colab": {
          "base_uri": "https://localhost:8080/"
        },
        "id": "VfjHFkmhWllP",
        "outputId": "85379748-29b5-48c2-a1d6-ee40a512c845"
      },
      "source": [
        "unique_values = np.unique(X_train, return_counts = True)[1].sum()\n",
        "print(f'There are {unique_values} in training data set.')\n",
        "zeros = np.unique(X_train, return_counts = True)[1][0]\n",
        "print(f'There are {zeros} zeros in the training data set.')\n",
        "pct_zero = round(zeros / unique_values * 100,2)\n",
        "print(f'Zeros account for {pct_zero}% of the training data set.')"
      ],
      "execution_count": null,
      "outputs": [
        {
          "output_type": "stream",
          "text": [
            "There are 38100623 in training data set.\n",
            "There are 35918117 zeros in the training data set.\n",
            "Zeros account for 94.27% of the training data set.\n"
          ],
          "name": "stdout"
        }
      ]
    },
    {
      "cell_type": "markdown",
      "metadata": {
        "id": "CyOnOFZKaxX_"
      },
      "source": [
        "<a id='instance'></a>\n",
        "<a name=\"instance\"></a>\n",
        "____\n",
        "# Neural Net Creation\n",
        "____\n",
        "\n",
        "Instantiating the model and creating the layers for my nueral net. \n",
        "\n",
        "\n"
      ]
    },
    {
      "cell_type": "code",
      "metadata": {
        "id": "R9p0Vt6xXtQ4"
      },
      "source": [
        "# setup early stopping\n",
        "callback = tf.keras.callbacks.EarlyStopping(monitor='loss', patience=2)\n",
        "\n",
        "\n",
        "# Instantiating Neural Net\n",
        "model = tf.keras.models.Sequential([\n",
        "    # input = 1000 words, next layer inputis 32, input length is the max length\n",
        "        tf.keras.layers.Embedding(2000, 32, input_length=max_len),\n",
        "        tf.keras.layers.Conv1D(64, 3, padding = 'same', activation = 'relu'),\n",
        "        tf.keras.layers.MaxPooling1D(),\n",
        "        tf.keras.layers.Flatten(),\n",
        "        tf.keras.layers.Dense(128, activation = 'relu'),\n",
        "        tf.keras.layers.Dropout(.7),\n",
        "        tf.keras.layers.Dense(21, activation = 'softmax',)\n",
        "])\n",
        "\n"
      ],
      "execution_count": null,
      "outputs": []
    },
    {
      "cell_type": "markdown",
      "metadata": {
        "id": "0icqEl0Gf5jx"
      },
      "source": [
        "<a id='compile'></a>\n",
        "<a name=\"compile\"></a>\n",
        "___\n",
        "### Compiling Neural Net\n",
        "____\n",
        "\n",
        "* There were few loss functions that worked with my data. I settled on Sparse Categorical Crossentropy after reviewing my options on SKlearn and iterating through a few others to see if they worked. \n",
        "\n",
        "* I am limited to 'accuracy' metric at this point because I was unable to successfully binarize my target columns and get them to shape correctly to fit the neural net. I will eventually go back and attempt to do this again as binarization of targets allows for more classification metrics. "
      ]
    },
    {
      "cell_type": "code",
      "metadata": {
        "id": "EGVNq0E3bzLs"
      },
      "source": [
        "# Compiling Neural Net\n",
        "model.compile(optimizer = 'adam',\n",
        "              loss = tf.keras.losses.SparseCategoricalCrossentropy(from_logits=True),\n",
        "              metrics = ['accuracy'])\n",
        "\n"
      ],
      "execution_count": null,
      "outputs": []
    },
    {
      "cell_type": "markdown",
      "metadata": {
        "id": "xlxaUI66f3iy"
      },
      "source": [
        "<a id='summary'></a>\n",
        "<a name=\"summary\"></a>\n",
        "\n",
        "______\n",
        "### Layer Summary\n",
        "______\n",
        "\n",
        "I used a 1 dimensional Convolution layer first because I read somewhere that it works well with NLP. It takes into account the proximity of words to create trainable patterns. I then added a max pooling layer. Apparently layering it after a convolutional layer is a common pattern. It works along the lines of calculating the maximum value for each piece of data or patch of the feature map. It basically give a summarized version of the features to the next layer of the neural net. This extracts the most meaningful features. I then use a flattening layer to convert it to a 1D array for input into the next layer. After that I used a dense layer. Apparently it is most common layer used and I guess you could just call it a regular layer in a neural network. I then finish it off with a dropout layer and another dense layer. The dropout layer combats overfitting. It is a regularization technique that gives it a ratio between 0 and 1. It essentially deactivates that ratio of neurons in the net."
      ]
    },
    {
      "cell_type": "code",
      "metadata": {
        "colab": {
          "base_uri": "https://localhost:8080/"
        },
        "id": "QaSRhEidcIkg",
        "outputId": "7d5ea50d-7393-400b-81c2-2e4a2460159a"
      },
      "source": [
        "# Showing Neural Net Structure\n",
        "model.summary()"
      ],
      "execution_count": null,
      "outputs": [
        {
          "output_type": "stream",
          "text": [
            "Model: \"sequential_5\"\n",
            "_________________________________________________________________\n",
            "Layer (type)                 Output Shape              Param #   \n",
            "=================================================================\n",
            "embedding_5 (Embedding)      (None, 739, 32)           64000     \n",
            "_________________________________________________________________\n",
            "conv1d_5 (Conv1D)            (None, 739, 64)           6208      \n",
            "_________________________________________________________________\n",
            "max_pooling1d_5 (MaxPooling1 (None, 369, 64)           0         \n",
            "_________________________________________________________________\n",
            "flatten_5 (Flatten)          (None, 23616)             0         \n",
            "_________________________________________________________________\n",
            "dense_10 (Dense)             (None, 128)               3022976   \n",
            "_________________________________________________________________\n",
            "dropout_5 (Dropout)          (None, 128)               0         \n",
            "_________________________________________________________________\n",
            "dense_11 (Dense)             (None, 21)                2709      \n",
            "=================================================================\n",
            "Total params: 3,095,893\n",
            "Trainable params: 3,095,893\n",
            "Non-trainable params: 0\n",
            "_________________________________________________________________\n"
          ],
          "name": "stdout"
        }
      ]
    },
    {
      "cell_type": "markdown",
      "metadata": {
        "id": "t-YGIOLYkv2X"
      },
      "source": [
        "<a id='fit'></a>\n",
        "<a name=\"fit\"></a>\n",
        "_______\n",
        "# Fitting the Neural Net\n",
        "_______"
      ]
    },
    {
      "cell_type": "code",
      "metadata": {
        "colab": {
          "base_uri": "https://localhost:8080/"
        },
        "id": "cQVCTlYccRCn",
        "outputId": "cf20a928-9536-4f35-b591-8fbbd48bfb3a"
      },
      "source": [
        "# Fitting nuerual net and showing results\n",
        "history = model.fit(X_train, y_train, epochs = 10, \n",
        "                    batch_size = 32, validation_data = (X_test, y_test),\n",
        "                    callbacks = [callback])\n"
      ],
      "execution_count": null,
      "outputs": [
        {
          "output_type": "stream",
          "text": [
            "Epoch 1/10\n",
            "1612/1612 [==============================] - 43s 26ms/step - loss: 2.0158 - accuracy: 0.3754 - val_loss: 1.1991 - val_accuracy: 0.5766\n",
            "Epoch 2/10\n",
            "1612/1612 [==============================] - 42s 26ms/step - loss: 1.3141 - accuracy: 0.5573 - val_loss: 1.0676 - val_accuracy: 0.6368\n",
            "Epoch 3/10\n",
            "1612/1612 [==============================] - 42s 26ms/step - loss: 1.1854 - accuracy: 0.5987 - val_loss: 1.0043 - val_accuracy: 0.6556\n",
            "Epoch 4/10\n",
            "1612/1612 [==============================] - 45s 28ms/step - loss: 1.1099 - accuracy: 0.6246 - val_loss: 0.9623 - val_accuracy: 0.6729\n",
            "Epoch 5/10\n",
            "1612/1612 [==============================] - 42s 26ms/step - loss: 1.0427 - accuracy: 0.6442 - val_loss: 0.9415 - val_accuracy: 0.6911\n",
            "Epoch 6/10\n",
            "1612/1612 [==============================] - 44s 27ms/step - loss: 0.9720 - accuracy: 0.6671 - val_loss: 0.9147 - val_accuracy: 0.7037\n",
            "Epoch 7/10\n",
            "1612/1612 [==============================] - 43s 26ms/step - loss: 0.9412 - accuracy: 0.6761 - val_loss: 0.8976 - val_accuracy: 0.7071\n",
            "Epoch 8/10\n",
            "1612/1612 [==============================] - 43s 27ms/step - loss: 0.9036 - accuracy: 0.6923 - val_loss: 0.9124 - val_accuracy: 0.7101\n",
            "Epoch 9/10\n",
            "1612/1612 [==============================] - 43s 27ms/step - loss: 0.8601 - accuracy: 0.7049 - val_loss: 0.9372 - val_accuracy: 0.7133\n",
            "Epoch 10/10\n",
            "1612/1612 [==============================] - 43s 27ms/step - loss: 0.8166 - accuracy: 0.7162 - val_loss: 0.9332 - val_accuracy: 0.7157\n"
          ],
          "name": "stdout"
        }
      ]
    },
    {
      "cell_type": "markdown",
      "metadata": {
        "id": "FhKWngf7k3T7"
      },
      "source": [
        "<a id='plot'></a>\n",
        "<a name=\"plot\"></a>\n",
        "____\n",
        "# Plotting the Neural Net Results\n",
        "______"
      ]
    },
    {
      "cell_type": "code",
      "metadata": {
        "colab": {
          "base_uri": "https://localhost:8080/",
          "height": 541
        },
        "id": "fvT1wx41rZcR",
        "outputId": "303da0d9-ac9b-422d-de69-83905f5da409"
      },
      "source": [
        "# Plotting Neural Net results\n",
        "def plot_graphs(history, string):\n",
        "  plt.plot(history.history[string])\n",
        "  plt.plot(history.history['val_'+string])\n",
        "  plt.xlabel(\"Epochs\")\n",
        "  plt.ylabel(string)\n",
        "  plt.legend([string, 'val_'+string])\n",
        "  plt.show()\n",
        "plot_graphs(history, \"accuracy\")\n",
        "plot_graphs(history, \"loss\")"
      ],
      "execution_count": null,
      "outputs": [
        {
          "output_type": "display_data",
          "data": {
            "image/png": "[encoded data removed]",
            "text/plain": [
              "<Figure size 432x288 with 1 Axes>"
            ]
          },
          "metadata": {
            "tags": [],
            "needs_background": "light"
          }
        },
        {
          "output_type": "display_data",
          "data": {
            "image/png": "[encoded data removed]",
            "text/plain": [
              "<Figure size 432x288 with 1 Axes>"
            ]
          },
          "metadata": {
            "tags": [],
            "needs_background": "light"
          }
        }
      ]
    },
    {
      "cell_type": "markdown",
      "metadata": {
        "id": "QaLwJUVqlZFJ"
      },
      "source": [
        "___\n",
        "**Interpreting Plot Results**\n",
        "____\n",
        "\n",
        "At around 3 Epochs we find convergence of both the loss function and the accuracy score. It is there where we could reasonably assume that the score would be most true. At point of convergence accuracy was around 73% for both training and validating scores and the loss function was around .9 for both training and validating sets. \n",
        "\n",
        "_____\n",
        "**Next Steps**\n",
        "______\n",
        "Play around more with adding and dropping layers, gather more data and introduce it to see how well it performs, binarize targets and successfuly fit binarized targets to model. "
      ]
    },
    {
      "cell_type": "code",
      "metadata": {
        "id": "3e9RaO3aahRV"
      },
      "source": [
        ""
      ],
      "execution_count": null,
      "outputs": []
    }
  ]
}