{
 "cells": [
  {
   "cell_type": "markdown",
   "metadata": {
    "id": "HXvjDReFHy0Z"
   },
   "source": [
    "* Potentially use gobbli https://github.com/rtiinternational/gobbli\n",
    "    * gobblie provides streamlit apps to perform some interactive tasks in a web browser, such as data exploration and model evaluation. \n",
    "* Check out Neural Gym GUI\n"
   ]
  },
  {
   "cell_type": "code",
   "execution_count": null,
   "metadata": {},
   "outputs": [],
   "source": []
  },
  {
   "cell_type": "markdown",
   "metadata": {
    "id": "MN-4BBxRHy0r"
   },
   "source": [
    "# TTD\n",
    "* run a model\n",
    "* Let's try neural net first. CNN\n",
    "* https://medium.com/@datamonsters/artificial-neural-networks-for-natural-language-processing-part-1-64ca9ebfa3b2\n",
    "* https://scikit-learn.org/stable/modules/multiclass.html"
   ]
  },
  {
   "cell_type": "code",
   "execution_count": null,
   "metadata": {
    "colab": {
     "base_uri": "https://localhost:8080/"
    },
    "id": "sUcwDaHHHy0t",
    "outputId": "92e03474-399e-46fc-c8a2-1cacad29ea24"
   },
   "outputs": [
    {
     "name": "stderr",
     "output_type": "stream",
     "text": [
      "/usr/local/lib/python3.6/dist-packages/sklearn/externals/six.py:31: FutureWarning: The module is deprecated in version 0.21 and will be removed in version 0.23 since we've dropped support for Python 2.7. Please rely on the official version of six (https://pypi.org/project/six/).\n",
      "  \"(https://pypi.org/project/six/).\", FutureWarning)\n",
      "/usr/local/lib/python3.6/dist-packages/sklearn/utils/deprecation.py:144: FutureWarning: The sklearn.neighbors.base module is  deprecated in version 0.22 and will be removed in version 0.24. The corresponding classes / functions should instead be imported from sklearn.neighbors. Anything that cannot be imported from sklearn.neighbors is now part of the private API.\n",
      "  warnings.warn(message, FutureWarning)\n"
     ]
    }
   ],
   "source": [
    "import pandas as pd\n",
    "import numpy as np\n",
    "\n",
    "# Importing Visualization Libraries\n",
    "import matplotlib.pyplot as plt\n",
    "import seaborn as sns\n",
    "\n",
    "# SKLearn Libraries\n",
    "from sklearn.feature_extraction.text import CountVectorizer, TfidfVectorizer\n",
    "from sklearn.model_selection import train_test_split, GridSearchCV\n",
    "from sklearn.pipeline import Pipeline\n",
    "from sklearn.preprocessing import LabelEncoder\n",
    "\n",
    "# SKLearn Model Libraries\n",
    "from sklearn.naive_bayes import MultinomialNB\n",
    "from sklearn.svm import SVC\n",
    "from sklearn.linear_model import LogisticRegression\n",
    "from sklearn.neighbors import KNeighborsClassifier\n",
    "from sklearn.ensemble import RandomForestClassifier, AdaBoostClassifier\n",
    "from sklearn.ensemble import VotingClassifier\n",
    "\n",
    "# SKLearn Metric Libraries\n",
    "from sklearn.metrics import confusion_matrix, plot_confusion_matrix, accuracy_score\n",
    "from sklearn.metrics import precision_score, recall_score, classification_report\n",
    "from sklearn.metrics import roc_curve, plot_roc_curve, auc, f1_score\n",
    "from sklearn import metrics\n",
    "\n",
    "# Other Libraries\n",
    "from collections import Counter\n",
    "from imblearn.over_sampling import SMOTE\n",
    "from random import sample"
   ]
  },
  {
   "cell_type": "markdown",
   "metadata": {
    "id": "QclIwFDdHy0v"
   },
   "source": [
    "_______\n",
    "# Read in Data\n",
    "_______"
   ]
  },
  {
   "cell_type": "code",
   "execution_count": null,
   "metadata": {
    "id": "QZmcTJNxHy0w"
   },
   "outputs": [],
   "source": [
    "wine_df = pd.read_csv('https://raw.githubusercontent.com/JamesRonsonOp/capstone/main/data/preprocessed_ready_4_model.csv')"
   ]
  },
  {
   "cell_type": "code",
   "execution_count": null,
   "metadata": {
    "colab": {
     "base_uri": "https://localhost:8080/",
     "height": 289
    },
    "id": "Vav626KVHy0x",
    "outputId": "b44c7e56-6910-428c-af8a-509f06cc9402"
   },
   "outputs": [
    {
     "data": {
      "text/html": [
       "<div>\n",
       "<style scoped>\n",
       "    .dataframe tbody tr th:only-of-type {\n",
       "        vertical-align: middle;\n",
       "    }\n",
       "\n",
       "    .dataframe tbody tr th {\n",
       "        vertical-align: top;\n",
       "    }\n",
       "\n",
       "    .dataframe thead th {\n",
       "        text-align: right;\n",
       "    }\n",
       "</style>\n",
       "<table border=\"1\" class=\"dataframe\">\n",
       "  <thead>\n",
       "    <tr style=\"text-align: right;\">\n",
       "      <th></th>\n",
       "      <th>varietal</th>\n",
       "      <th>description</th>\n",
       "      <th>color</th>\n",
       "      <th>parsed</th>\n",
       "    </tr>\n",
       "  </thead>\n",
       "  <tbody>\n",
       "    <tr>\n",
       "      <th>0</th>\n",
       "      <td>Pinot Noir</td>\n",
       "      <td>much like regular comes rather tannic rustic e...</td>\n",
       "      <td>red</td>\n",
       "      <td>much like the regular bottling from this comes...</td>\n",
       "    </tr>\n",
       "    <tr>\n",
       "      <th>1</th>\n",
       "      <td>Cabernet Sauvignon</td>\n",
       "      <td>supple plum envelopes oaky structure supported...</td>\n",
       "      <td>red</td>\n",
       "      <td>soft supple plum envelopes an oaky structure i...</td>\n",
       "    </tr>\n",
       "    <tr>\n",
       "      <th>2</th>\n",
       "      <td>Cabernet Sauvignon</td>\n",
       "      <td>slightly reduced offers chalky tannic otherwis...</td>\n",
       "      <td>red</td>\n",
       "      <td>slightly reduced this wine offers a chalky tan...</td>\n",
       "    </tr>\n",
       "    <tr>\n",
       "      <th>3</th>\n",
       "      <td>Malbec</td>\n",
       "      <td>baked plum molasses balsamic vinegar cheesy ar...</td>\n",
       "      <td>red</td>\n",
       "      <td>baked plum molasses balsamic vinegar and chees...</td>\n",
       "    </tr>\n",
       "    <tr>\n",
       "      <th>4</th>\n",
       "      <td>Malbec</td>\n",
       "      <td>raw aromas direct but has feel thickens over e...</td>\n",
       "      <td>red</td>\n",
       "      <td>raw black cherry aromas are direct and simple ...</td>\n",
       "    </tr>\n",
       "  </tbody>\n",
       "</table>\n",
       "</div>"
      ],
      "text/plain": [
       "             varietal  ...                                             parsed\n",
       "0          Pinot Noir  ...  much like the regular bottling from this comes...\n",
       "1  Cabernet Sauvignon  ...  soft supple plum envelopes an oaky structure i...\n",
       "2  Cabernet Sauvignon  ...  slightly reduced this wine offers a chalky tan...\n",
       "3              Malbec  ...  baked plum molasses balsamic vinegar and chees...\n",
       "4              Malbec  ...  raw black cherry aromas are direct and simple ...\n",
       "\n",
       "[5 rows x 4 columns]"
      ]
     },
     "execution_count": 7,
     "metadata": {
      "tags": []
     },
     "output_type": "execute_result"
    }
   ],
   "source": [
    "wine_df.head()"
   ]
  },
  {
   "cell_type": "code",
   "execution_count": null,
   "metadata": {
    "colab": {
     "base_uri": "https://localhost:8080/"
    },
    "id": "SuzKFXa8Hy01",
    "outputId": "48a69f1d-754a-4c6b-8da0-65109b47860a"
   },
   "outputs": [
    {
     "data": {
      "text/plain": [
       "Cabernet Sauvignon    15199\n",
       "Pinot Noir            12193\n",
       "Chardonnay            10779\n",
       "Riesling               4759\n",
       "Syrah                  4606\n",
       "Sauvignon Blanc        4545\n",
       "Merlot                 2887\n",
       "Nebbiolo               2594\n",
       "Zinfandel              2524\n",
       "Sangiovese             2456\n",
       "Malbec                 2446\n",
       "Tempranillo            2219\n",
       "Gruner Veltliner       1196\n",
       "Pinot Grigio            978\n",
       "Gewurztraminer          937\n",
       "Viognier                919\n",
       "Grenache                605\n",
       "Glera                   596\n",
       "Chenin Blanc            543\n",
       "Albarino                434\n",
       "Garganega               244\n",
       "Name: varietal, dtype: int64"
      ]
     },
     "execution_count": 8,
     "metadata": {
      "tags": []
     },
     "output_type": "execute_result"
    }
   ],
   "source": [
    "wine_df['varietal'].value_counts()"
   ]
  },
  {
   "cell_type": "markdown",
   "metadata": {
    "id": "alGMUfbbHy05"
   },
   "source": [
    "https://datatofish.com/random-rows-pandas-dataframe/\n",
    "\n",
    "https://www.kite.com/python/answers/how-to-create-an-empty-dataframe-with-column-names-in-python\n",
    "\n",
    "https://stats.stackexchange.com/questions/227088/when-should-i-balance-classes-in-a-training-data-set\n"
   ]
  },
  {
   "cell_type": "code",
   "execution_count": null,
   "metadata": {
    "id": "FvsJ11xEHy08"
   },
   "outputs": [],
   "source": [
    "def mass_downsampler(df, col_name, num_samples):\n",
    "    \n",
    "    old_df = pd.DataFrame(columns = df.columns)\n",
    "    \n",
    "    \n",
    "    # iterate through unique class labels in column\n",
    "    for class_name in df[col_name].unique():\n",
    "        \n",
    "        # create a sliced DF of just the class specified\n",
    "        new_df = df[df[col_name] == class_name]\n",
    "        \n",
    "        \n",
    "        # if new df less than num_samples add to old_df\n",
    "        if new_df.shape[0] <= num_samples:\n",
    "            old_df = pd.concat([old_df, new_df])\n",
    "            \n",
    "        # if column has more than num_samples then downsample it.     \n",
    "        if new_df.shape[0] > num_samples:\n",
    "            \n",
    "            # Create a sliced DF for each label \n",
    "            # Sample from sliced DF for num_samples number of times\n",
    "            down_df = new_df.sample(n = num_samples)\n",
    "           \n",
    "            # concat down_df to old_df's\n",
    "            old_df = pd.concat([old_df, down_df])\n",
    "        \n",
    "\n",
    "    return old_df    \n"
   ]
  },
  {
   "cell_type": "code",
   "execution_count": null,
   "metadata": {
    "id": "j8SrYgRKHy09"
   },
   "outputs": [],
   "source": [
    "down_df = mass_downsampler(wine_df, 'varietal', 300)"
   ]
  },
  {
   "cell_type": "code",
   "execution_count": null,
   "metadata": {
    "colab": {
     "base_uri": "https://localhost:8080/"
    },
    "id": "08xQiIYqHy09",
    "outputId": "d10ee377-7eb0-4297-c72b-ce563dff17d5"
   },
   "outputs": [
    {
     "data": {
      "text/plain": [
       "Viognier              300\n",
       "Pinot Noir            300\n",
       "Chenin Blanc          300\n",
       "Gruner Veltliner      300\n",
       "Glera                 300\n",
       "Grenache              300\n",
       "Nebbiolo              300\n",
       "Merlot                300\n",
       "Tempranillo           300\n",
       "Albarino              300\n",
       "Gewurztraminer        300\n",
       "Chardonnay            300\n",
       "Pinot Grigio          300\n",
       "Sangiovese            300\n",
       "Cabernet Sauvignon    300\n",
       "Malbec                300\n",
       "Sauvignon Blanc       300\n",
       "Riesling              300\n",
       "Zinfandel             300\n",
       "Syrah                 300\n",
       "Garganega             244\n",
       "Name: varietal, dtype: int64"
      ]
     },
     "execution_count": 11,
     "metadata": {
      "tags": []
     },
     "output_type": "execute_result"
    }
   ],
   "source": [
    "down_df['varietal'].value_counts()"
   ]
  },
  {
   "cell_type": "code",
   "execution_count": null,
   "metadata": {
    "colab": {
     "base_uri": "https://localhost:8080/"
    },
    "id": "40qO81SdHy09",
    "outputId": "97a77f2a-6329-47fa-ed8e-d7d40c4d4efe"
   },
   "outputs": [
    {
     "data": {
      "text/plain": [
       "varietal       0\n",
       "description    0\n",
       "color          0\n",
       "parsed         0\n",
       "dtype: int64"
      ]
     },
     "execution_count": 12,
     "metadata": {
      "tags": []
     },
     "output_type": "execute_result"
    }
   ],
   "source": [
    "down_df.isna().sum()"
   ]
  },
  {
   "cell_type": "code",
   "execution_count": null,
   "metadata": {
    "colab": {
     "base_uri": "https://localhost:8080/",
     "height": 80
    },
    "id": "YeObKG9_Hy0-",
    "outputId": "3ad6de32-63e8-4cd0-8eb7-fd560920fc9a"
   },
   "outputs": [
    {
     "data": {
      "text/html": [
       "<div>\n",
       "<style scoped>\n",
       "    .dataframe tbody tr th:only-of-type {\n",
       "        vertical-align: middle;\n",
       "    }\n",
       "\n",
       "    .dataframe tbody tr th {\n",
       "        vertical-align: top;\n",
       "    }\n",
       "\n",
       "    .dataframe thead th {\n",
       "        text-align: right;\n",
       "    }\n",
       "</style>\n",
       "<table border=\"1\" class=\"dataframe\">\n",
       "  <thead>\n",
       "    <tr style=\"text-align: right;\">\n",
       "      <th></th>\n",
       "      <th>varietal</th>\n",
       "      <th>description</th>\n",
       "      <th>color</th>\n",
       "      <th>parsed</th>\n",
       "    </tr>\n",
       "  </thead>\n",
       "  <tbody>\n",
       "    <tr>\n",
       "      <th>34369</th>\n",
       "      <td>Cabernet Sauvignon</td>\n",
       "      <td>NaN</td>\n",
       "      <td>red</td>\n",
       "      <td>this wine is all wood with no promise of fruit</td>\n",
       "    </tr>\n",
       "  </tbody>\n",
       "</table>\n",
       "</div>"
      ],
      "text/plain": [
       "                 varietal  ...                                          parsed\n",
       "34369  Cabernet Sauvignon  ...  this wine is all wood with no promise of fruit\n",
       "\n",
       "[1 rows x 4 columns]"
      ]
     },
     "execution_count": 13,
     "metadata": {
      "tags": []
     },
     "output_type": "execute_result"
    }
   ],
   "source": [
    "wine_df[wine_df['description'].isnull() == True]\n"
   ]
  },
  {
   "cell_type": "code",
   "execution_count": null,
   "metadata": {
    "colab": {
     "base_uri": "https://localhost:8080/"
    },
    "id": "urYpXDaFHy0-",
    "outputId": "8e672017-0592-4d0c-94ed-2e467ca1882d"
   },
   "outputs": [
    {
     "data": {
      "text/plain": [
       "varietal       0\n",
       "description    0\n",
       "color          0\n",
       "parsed         0\n",
       "dtype: int64"
      ]
     },
     "execution_count": 14,
     "metadata": {
      "tags": []
     },
     "output_type": "execute_result"
    }
   ],
   "source": [
    "# locating the above null value\n",
    "wine_df.loc[34369,  'parsed']\n",
    "\n",
    "# dropping it\n",
    "wine_df.drop(34369, inplace = True)\n",
    "\n",
    "# checking to see if it worked\n",
    "wine_df.isna().sum()"
   ]
  },
  {
   "cell_type": "markdown",
   "metadata": {
    "id": "wE8ANYvaHy0-"
   },
   "source": [
    "___________\n",
    "# Class Distribution Analysis for MultiClass Target\n",
    "* I will be using the 'varietal' feature as my targets\n",
    "* In the following steps I will create a DF that is grouped by target column, I will create numerical labels for these targets and I will plot the distribution of the classes.\n",
    "___________"
   ]
  },
  {
   "cell_type": "code",
   "execution_count": null,
   "metadata": {
    "id": "ycXz7KnKHy0_"
   },
   "outputs": [],
   "source": [
    "# defining a function that takes in a df, a column list that includes target column\n",
    "# and a column that can be counted to determine value counts. \n",
    "# it returns a df with value counts and percentages of value counts\n",
    "# it also returns a plot of class imbalances.\n",
    "\n",
    "def class_balance_analyzer(df, target_col, count_col):\n",
    "    \n",
    "    # creating a df that groups by target classes\n",
    "    targets = df[[target_col, \n",
    "                  count_col]].groupby(target_col, as_index = False).count()\n",
    "    \n",
    "    # sorting target values by count descending\n",
    "    targets.sort_values(count_col, ascending = True, inplace = True)\n",
    "    \n",
    "    # renaming column for clarity\n",
    "    targets.rename(columns = {count_col: 'count'}, inplace = True)\n",
    "    \n",
    "    # resetting index\n",
    "    targets.reset_index(inplace = True, drop = True)\n",
    "    \n",
    "    targets['percent'] = round(targets['count'] / targets['count'].sum() * 100, 2)\n",
    "    \n",
    "    plt.barh(targets[target_col], targets['count'])\n",
    "    \n",
    "    plt.xticks(rotation = 90)\n",
    "    plt.ylabel('Classes')\n",
    "    plt.xlabel('Number of Samples')\n",
    "    \n",
    "    plt.show();\n",
    "    \n",
    "    return targets"
   ]
  },
  {
   "cell_type": "code",
   "execution_count": null,
   "metadata": {
    "colab": {
     "base_uri": "https://localhost:8080/",
     "height": 971
    },
    "id": "duZ_OuNxHy1A",
    "outputId": "57531b31-eb36-4031-ede6-a6e999044a1f"
   },
   "outputs": [
    {
     "data": {
      "image/png": "[encoded data removed]",
      "text/plain": [
       "<Figure size 432x288 with 1 Axes>"
      ]
     },
     "metadata": {
      "needs_background": "light",
      "tags": []
     },
     "output_type": "display_data"
    },
    {
     "data": {
      "text/html": [
       "<div>\n",
       "<style scoped>\n",
       "    .dataframe tbody tr th:only-of-type {\n",
       "        vertical-align: middle;\n",
       "    }\n",
       "\n",
       "    .dataframe tbody tr th {\n",
       "        vertical-align: top;\n",
       "    }\n",
       "\n",
       "    .dataframe thead th {\n",
       "        text-align: right;\n",
       "    }\n",
       "</style>\n",
       "<table border=\"1\" class=\"dataframe\">\n",
       "  <thead>\n",
       "    <tr style=\"text-align: right;\">\n",
       "      <th></th>\n",
       "      <th>varietal</th>\n",
       "      <th>count</th>\n",
       "      <th>percent</th>\n",
       "    </tr>\n",
       "  </thead>\n",
       "  <tbody>\n",
       "    <tr>\n",
       "      <th>0</th>\n",
       "      <td>Garganega</td>\n",
       "      <td>244</td>\n",
       "      <td>3.91</td>\n",
       "    </tr>\n",
       "    <tr>\n",
       "      <th>1</th>\n",
       "      <td>Albarino</td>\n",
       "      <td>300</td>\n",
       "      <td>4.80</td>\n",
       "    </tr>\n",
       "    <tr>\n",
       "      <th>2</th>\n",
       "      <td>Tempranillo</td>\n",
       "      <td>300</td>\n",
       "      <td>4.80</td>\n",
       "    </tr>\n",
       "    <tr>\n",
       "      <th>3</th>\n",
       "      <td>Syrah</td>\n",
       "      <td>300</td>\n",
       "      <td>4.80</td>\n",
       "    </tr>\n",
       "    <tr>\n",
       "      <th>4</th>\n",
       "      <td>Sauvignon Blanc</td>\n",
       "      <td>300</td>\n",
       "      <td>4.80</td>\n",
       "    </tr>\n",
       "    <tr>\n",
       "      <th>5</th>\n",
       "      <td>Sangiovese</td>\n",
       "      <td>300</td>\n",
       "      <td>4.80</td>\n",
       "    </tr>\n",
       "    <tr>\n",
       "      <th>6</th>\n",
       "      <td>Riesling</td>\n",
       "      <td>300</td>\n",
       "      <td>4.80</td>\n",
       "    </tr>\n",
       "    <tr>\n",
       "      <th>7</th>\n",
       "      <td>Pinot Noir</td>\n",
       "      <td>300</td>\n",
       "      <td>4.80</td>\n",
       "    </tr>\n",
       "    <tr>\n",
       "      <th>8</th>\n",
       "      <td>Pinot Grigio</td>\n",
       "      <td>300</td>\n",
       "      <td>4.80</td>\n",
       "    </tr>\n",
       "    <tr>\n",
       "      <th>9</th>\n",
       "      <td>Nebbiolo</td>\n",
       "      <td>300</td>\n",
       "      <td>4.80</td>\n",
       "    </tr>\n",
       "    <tr>\n",
       "      <th>10</th>\n",
       "      <td>Merlot</td>\n",
       "      <td>300</td>\n",
       "      <td>4.80</td>\n",
       "    </tr>\n",
       "    <tr>\n",
       "      <th>11</th>\n",
       "      <td>Malbec</td>\n",
       "      <td>300</td>\n",
       "      <td>4.80</td>\n",
       "    </tr>\n",
       "    <tr>\n",
       "      <th>12</th>\n",
       "      <td>Gruner Veltliner</td>\n",
       "      <td>300</td>\n",
       "      <td>4.80</td>\n",
       "    </tr>\n",
       "    <tr>\n",
       "      <th>13</th>\n",
       "      <td>Grenache</td>\n",
       "      <td>300</td>\n",
       "      <td>4.80</td>\n",
       "    </tr>\n",
       "    <tr>\n",
       "      <th>14</th>\n",
       "      <td>Glera</td>\n",
       "      <td>300</td>\n",
       "      <td>4.80</td>\n",
       "    </tr>\n",
       "    <tr>\n",
       "      <th>15</th>\n",
       "      <td>Gewurztraminer</td>\n",
       "      <td>300</td>\n",
       "      <td>4.80</td>\n",
       "    </tr>\n",
       "    <tr>\n",
       "      <th>16</th>\n",
       "      <td>Chenin Blanc</td>\n",
       "      <td>300</td>\n",
       "      <td>4.80</td>\n",
       "    </tr>\n",
       "    <tr>\n",
       "      <th>17</th>\n",
       "      <td>Chardonnay</td>\n",
       "      <td>300</td>\n",
       "      <td>4.80</td>\n",
       "    </tr>\n",
       "    <tr>\n",
       "      <th>18</th>\n",
       "      <td>Cabernet Sauvignon</td>\n",
       "      <td>300</td>\n",
       "      <td>4.80</td>\n",
       "    </tr>\n",
       "    <tr>\n",
       "      <th>19</th>\n",
       "      <td>Viognier</td>\n",
       "      <td>300</td>\n",
       "      <td>4.80</td>\n",
       "    </tr>\n",
       "    <tr>\n",
       "      <th>20</th>\n",
       "      <td>Zinfandel</td>\n",
       "      <td>300</td>\n",
       "      <td>4.80</td>\n",
       "    </tr>\n",
       "  </tbody>\n",
       "</table>\n",
       "</div>"
      ],
      "text/plain": [
       "              varietal  count  percent\n",
       "0            Garganega    244     3.91\n",
       "1             Albarino    300     4.80\n",
       "2          Tempranillo    300     4.80\n",
       "3                Syrah    300     4.80\n",
       "4      Sauvignon Blanc    300     4.80\n",
       "5           Sangiovese    300     4.80\n",
       "6             Riesling    300     4.80\n",
       "7           Pinot Noir    300     4.80\n",
       "8         Pinot Grigio    300     4.80\n",
       "9             Nebbiolo    300     4.80\n",
       "10              Merlot    300     4.80\n",
       "11              Malbec    300     4.80\n",
       "12    Gruner Veltliner    300     4.80\n",
       "13            Grenache    300     4.80\n",
       "14               Glera    300     4.80\n",
       "15      Gewurztraminer    300     4.80\n",
       "16        Chenin Blanc    300     4.80\n",
       "17          Chardonnay    300     4.80\n",
       "18  Cabernet Sauvignon    300     4.80\n",
       "19            Viognier    300     4.80\n",
       "20           Zinfandel    300     4.80"
      ]
     },
     "execution_count": 16,
     "metadata": {
      "tags": []
     },
     "output_type": "execute_result"
    }
   ],
   "source": [
    "targets = class_balance_analyzer(down_df, 'varietal', 'description')\n",
    "targets"
   ]
  },
  {
   "cell_type": "markdown",
   "metadata": {
    "id": "e9cJvnWyHy1B"
   },
   "source": [
    "**Analysis of Class Distributions Plot**\n",
    "\n",
    "* There is some serious class imbalance within these 20 classes. I will need to do quite a bit of work to get them to be balanced.\n",
    "\n",
    "**Approaches I will attempt**\n",
    "\n",
    "* First approach is to eliminate values from larger classes in order to bring the data more into balance. \n",
    "* Second approach is to consider bootstrapping each column for the purpose of increasing the sample sizes. There are a number of ways to do this.  \n",
    "    * SMOTE algorithm. https://machinelearningmastery.com/smote-oversampling-for-imbalanced-classification/ \n",
    "    * Cost-Sensitive Learning For Imbalanced Classification. https://machinelearningmastery.com/cost-sensitive-learning-for-imbalanced-classification/\n",
    "    * Cost_Sensitive Logistic Rgression for Imbalanced Classification https://machinelearningmastery.com/cost-sensitive-logistic-regression/\n"
   ]
  },
  {
   "cell_type": "markdown",
   "metadata": {
    "id": "Evwnhq0vHy1C"
   },
   "source": [
    "__________\n",
    "# Create Target and Predictor Variables\n",
    "_________"
   ]
  },
  {
   "cell_type": "code",
   "execution_count": null,
   "metadata": {
    "id": "sK6_E6UyHy1L"
   },
   "outputs": [],
   "source": [
    "X = down_df['description']\n",
    "# Creating Multi-Class Targets\n",
    "y_multi = down_df['varietal']\n",
    "# Creating binary targets for exploration purposes. \n",
    "y = down_df['color']"
   ]
  },
  {
   "cell_type": "code",
   "execution_count": null,
   "metadata": {
    "id": "n00fDTzaHy1M"
   },
   "outputs": [],
   "source": [
    "# Binarizing binary targets\n",
    "y = y.map({'white': 0, 'red': 1})"
   ]
  },
  {
   "cell_type": "code",
   "execution_count": null,
   "metadata": {
    "colab": {
     "base_uri": "https://localhost:8080/"
    },
    "id": "CQz2Tj6XHy1N",
    "outputId": "1259a92c-bedc-4d7e-afb7-ea7f862f8dfd"
   },
   "outputs": [
    {
     "name": "stdout",
     "output_type": "stream",
     "text": [
      "Feature Variables Shape: (6244,)\n",
      "Target Variables Shape: (6244,)\n"
     ]
    }
   ],
   "source": [
    "print(f'Feature Variables Shape: {X.shape}')\n",
    "print(f'Target Variables Shape: {y.shape}')"
   ]
  },
  {
   "cell_type": "markdown",
   "metadata": {
    "id": "lQyRxdo9Hy1O"
   },
   "source": [
    "# Baseline Model For Multi-Class Classification"
   ]
  },
  {
   "cell_type": "code",
   "execution_count": null,
   "metadata": {
    "colab": {
     "base_uri": "https://localhost:8080/"
    },
    "id": "2NMn-epYHy1P",
    "outputId": "abf8955e-6a61-404d-85cd-59581a62f1f9"
   },
   "outputs": [
    {
     "data": {
      "text/plain": [
       "Viognier              0.048046\n",
       "Pinot Noir            0.048046\n",
       "Chenin Blanc          0.048046\n",
       "Gruner Veltliner      0.048046\n",
       "Glera                 0.048046\n",
       "Grenache              0.048046\n",
       "Nebbiolo              0.048046\n",
       "Merlot                0.048046\n",
       "Tempranillo           0.048046\n",
       "Albarino              0.048046\n",
       "Gewurztraminer        0.048046\n",
       "Chardonnay            0.048046\n",
       "Pinot Grigio          0.048046\n",
       "Sangiovese            0.048046\n",
       "Cabernet Sauvignon    0.048046\n",
       "Malbec                0.048046\n",
       "Sauvignon Blanc       0.048046\n",
       "Riesling              0.048046\n",
       "Zinfandel             0.048046\n",
       "Syrah                 0.048046\n",
       "Garganega             0.039078\n",
       "Name: varietal, dtype: float64"
      ]
     },
     "execution_count": 20,
     "metadata": {
      "tags": []
     },
     "output_type": "execute_result"
    }
   ],
   "source": [
    "y_multi.value_counts(normalize = True)"
   ]
  },
  {
   "cell_type": "markdown",
   "metadata": {
    "id": "bC6YqMxMHy1Q"
   },
   "source": [
    "# Label Encoding"
   ]
  },
  {
   "cell_type": "code",
   "execution_count": null,
   "metadata": {
    "id": "HvOpHR5sHy1Q"
   },
   "outputs": [],
   "source": [
    "# encoding y_multi\n",
    "y_multi = LabelEncoder().fit_transform(y_multi)"
   ]
  },
  {
   "cell_type": "code",
   "execution_count": null,
   "metadata": {
    "id": "3ZjfSGahHy1Q"
   },
   "outputs": [],
   "source": [
    "def encode_workflow(target_series):\n",
    "    \n",
    "    # Instantiate LabelEncoder(), fit it and transform it.\n",
    "    target_series = LabelEncoder().fit_transform(target_series)\n",
    "    \n",
    "    \n",
    "    # create a df of target labels\n",
    "    encoded = pd.DataFrame(target_series) \n",
    "    \n",
    "    # create a df that contains only the encoded df's value_counts()\n",
    "    label_counts = encoded[0].value_counts()\n",
    "    \n",
    "    # reset the index so the class labels are no longer the index\n",
    "    label_counts = label_counts.reset_index()\n",
    "    \n",
    "    # rename columns for clarity\n",
    "    label_counts.rename(columns = {'index': 'encoded_labels', 0: 'count'}, inplace = True)\n",
    "    \n",
    "    return label_counts"
   ]
  },
  {
   "cell_type": "code",
   "execution_count": null,
   "metadata": {
    "colab": {
     "base_uri": "https://localhost:8080/",
     "height": 131
    },
    "id": "qYTDj9x7Hy1Q",
    "outputId": "b16b4a44-e653-4002-b046-f1ef82610266"
   },
   "outputs": [
    {
     "data": {
      "text/html": [
       "<div>\n",
       "<style scoped>\n",
       "    .dataframe tbody tr th:only-of-type {\n",
       "        vertical-align: middle;\n",
       "    }\n",
       "\n",
       "    .dataframe tbody tr th {\n",
       "        vertical-align: top;\n",
       "    }\n",
       "\n",
       "    .dataframe thead th {\n",
       "        text-align: right;\n",
       "    }\n",
       "</style>\n",
       "<table border=\"1\" class=\"dataframe\">\n",
       "  <thead>\n",
       "    <tr style=\"text-align: right;\">\n",
       "      <th></th>\n",
       "      <th>0</th>\n",
       "      <th>1</th>\n",
       "      <th>2</th>\n",
       "      <th>3</th>\n",
       "      <th>4</th>\n",
       "      <th>5</th>\n",
       "      <th>6</th>\n",
       "      <th>7</th>\n",
       "      <th>8</th>\n",
       "      <th>9</th>\n",
       "      <th>10</th>\n",
       "      <th>11</th>\n",
       "      <th>12</th>\n",
       "      <th>13</th>\n",
       "      <th>14</th>\n",
       "      <th>15</th>\n",
       "      <th>16</th>\n",
       "      <th>17</th>\n",
       "      <th>18</th>\n",
       "      <th>19</th>\n",
       "      <th>20</th>\n",
       "    </tr>\n",
       "  </thead>\n",
       "  <tbody>\n",
       "    <tr>\n",
       "      <th>encoded_labels</th>\n",
       "      <td>19</td>\n",
       "      <td>15</td>\n",
       "      <td>8</td>\n",
       "      <td>12</td>\n",
       "      <td>16</td>\n",
       "      <td>20</td>\n",
       "      <td>1</td>\n",
       "      <td>5</td>\n",
       "      <td>9</td>\n",
       "      <td>13</td>\n",
       "      <td>17</td>\n",
       "      <td>2</td>\n",
       "      <td>6</td>\n",
       "      <td>10</td>\n",
       "      <td>14</td>\n",
       "      <td>18</td>\n",
       "      <td>3</td>\n",
       "      <td>7</td>\n",
       "      <td>11</td>\n",
       "      <td>0</td>\n",
       "      <td>4</td>\n",
       "    </tr>\n",
       "    <tr>\n",
       "      <th>count</th>\n",
       "      <td>300</td>\n",
       "      <td>300</td>\n",
       "      <td>300</td>\n",
       "      <td>300</td>\n",
       "      <td>300</td>\n",
       "      <td>300</td>\n",
       "      <td>300</td>\n",
       "      <td>300</td>\n",
       "      <td>300</td>\n",
       "      <td>300</td>\n",
       "      <td>300</td>\n",
       "      <td>300</td>\n",
       "      <td>300</td>\n",
       "      <td>300</td>\n",
       "      <td>300</td>\n",
       "      <td>300</td>\n",
       "      <td>300</td>\n",
       "      <td>300</td>\n",
       "      <td>300</td>\n",
       "      <td>300</td>\n",
       "      <td>244</td>\n",
       "    </tr>\n",
       "  </tbody>\n",
       "</table>\n",
       "</div>"
      ],
      "text/plain": [
       "                 0    1    2    3    4    5   ...   15   16   17   18   19   20\n",
       "encoded_labels   19   15    8   12   16   20  ...   18    3    7   11    0    4\n",
       "count           300  300  300  300  300  300  ...  300  300  300  300  300  244\n",
       "\n",
       "[2 rows x 21 columns]"
      ]
     },
     "execution_count": 23,
     "metadata": {
      "tags": []
     },
     "output_type": "execute_result"
    }
   ],
   "source": [
    "# Creating label_counts df by calling the encode_workflow custom function\n",
    "label_counts = encode_workflow(y_multi)\n",
    "\n",
    "# Viewing label_counts df that was created above\n",
    "# Transposing it to shorten workbook\n",
    "label_counts.T"
   ]
  },
  {
   "cell_type": "markdown",
   "metadata": {
    "id": "o996cf4JHy1R"
   },
   "source": [
    "# Train / Test / Split"
   ]
  },
  {
   "cell_type": "code",
   "execution_count": null,
   "metadata": {
    "id": "iKp4UQ1IHy1R"
   },
   "outputs": [],
   "source": [
    "X_train, X_test, y_train, y_test = train_test_split(X, y_multi,\n",
    "                                                   test_size = .33, \n",
    "                                                   stratify = y, \n",
    "                                                   random_state = 42)"
   ]
  },
  {
   "cell_type": "code",
   "execution_count": null,
   "metadata": {
    "colab": {
     "base_uri": "https://localhost:8080/"
    },
    "id": "LBaZO-oeHy1R",
    "outputId": "692ea76e-7de5-4c91-fd0a-ff449c525be9"
   },
   "outputs": [
    {
     "data": {
      "text/plain": [
       "722928"
      ]
     },
     "execution_count": 25,
     "metadata": {
      "tags": []
     },
     "output_type": "execute_result"
    }
   ],
   "source": [
    "# Checking computational size of X_train\n",
    "import sys\n",
    "sys.getsizeof(X_train)"
   ]
  },
  {
   "cell_type": "markdown",
   "metadata": {
    "id": "a2Zmqf9wHy1R"
   },
   "source": [
    "# Grid Searching Hyperparameters"
   ]
  },
  {
   "cell_type": "code",
   "execution_count": null,
   "metadata": {
    "id": "ttVlMw7XHy1R"
   },
   "outputs": [],
   "source": [
    "## creating a list of our two chosen vectorizers to iterate through in our grid search\n",
    "vectorizer = [CountVectorizer(), TfidfVectorizer()]"
   ]
  },
  {
   "cell_type": "code",
   "execution_count": null,
   "metadata": {
    "id": "pQH1yqbrHy1S"
   },
   "outputs": [],
   "source": [
    "## creating variables to accept tuning parameters\n",
    "max_feat = [300, 500]  \n",
    "ngram_range = [(1, 3), (1, 2)] \n",
    "stop_words = [None, 'english'] \n",
    "max_df = [0.9, 0.8] "
   ]
  },
  {
   "cell_type": "code",
   "execution_count": null,
   "metadata": {
    "id": "0A9_uGLCHy1S"
   },
   "outputs": [],
   "source": [
    "# ## creating any empty results list to capture our cv_results_ at the end of each iteration\n",
    "# results = []\n",
    "\n",
    "# ## looping through both vectorizers\n",
    "# for vect in vectorizer:\n",
    "    \n",
    "#     #### Pipeline for our Vectorizer and Classifier Models ####\n",
    "#     pipeline = Pipeline([\n",
    "#         ('vect', vect),\n",
    "#         ('clf', LogisticRegression())])\n",
    "    \n",
    "#     instantiations = [ #### Beginning of Instantiations List ####\n",
    "#         {\n",
    "#             ### Log Reg Vect Hyperparameters ###\n",
    "            \n",
    "#             'vect__max_features': max_feat,\n",
    "#             'vect__stop_words': stop_words,\n",
    "#             'vect__ngram_range': ngram_range,\n",
    "#             'vect__max_df': max_df,\n",
    "            \n",
    "#             ## Instantiate Log Reg and Hyperparamaters\n",
    "#             'clf': (LogisticRegression(solver='liblinear'), ), ## setting our first classifier model\n",
    "#             'clf__penalty': ('l1', 'l2'),\n",
    "#             'clf__C': (.5, 1.0), \n",
    "#         }, \n",
    "#     #######\n",
    "#         {\n",
    "            \n",
    "#             ### Multinomial Bayes Vect Hyperparameters ###\n",
    "#             'vect__max_features': max_feat,\n",
    "#             'vect__stop_words': stop_words,\n",
    "#             'vect__ngram_range': ngram_range,\n",
    "#             'vect__max_df': max_df,\n",
    "            \n",
    "#             ## Instantiate Mulinomial NB and Hyperparamters ##\n",
    "#             'clf': (MultinomialNB(), ),  \n",
    "#             'clf__alpha': (.5, 1.0)\n",
    "#         },\n",
    "#     #######   \n",
    "#         {\n",
    "#             ### SVC Vect Hyperparameters ###\n",
    "#             'vect__max_features': max_feat,\n",
    "#             'vect__stop_words': stop_words,\n",
    "#             'vect__ngram_range': ngram_range,\n",
    "#             'vect__max_df': max_df,\n",
    "            \n",
    "#             ## KNN Instantiation and Hyperparameters\n",
    "#             'clf': (KNeighborsClassifier(), ),\n",
    "#             'clf__n_neighbors': (5 , 10),\n",
    "#             'clf__weights': ('uniform', 'distance')\n",
    "#         },\n",
    "#     #######  \n",
    "#         {\n",
    "#             ### RandomForestClassifier Vect Hyperparameters ###\n",
    "#             'vect__max_features': max_feat,\n",
    "#             'vect__stop_words': stop_words,\n",
    "#             'vect__ngram_range': ngram_range,\n",
    "#             'vect__max_df': max_df,\n",
    "            \n",
    "#             ## Instantiate RandomForestClassifier ##\n",
    "#             'clf': (RandomForestClassifier(n_estimators=50, min_samples_split=5), ),\n",
    "#         },\n",
    "#     #######\n",
    "#         {\n",
    "#             ### Voting Classifier Vect Hyperparameters ###\n",
    "#             'vect__max_features': max_feat,\n",
    "#             'vect__stop_words': stop_words,\n",
    "#             'vect__ngram_range': ngram_range,\n",
    "#             'vect__max_df': max_df,\n",
    "            \n",
    "#             ## Instantiating Ensemble Voting Classifier ##\n",
    "#             'clf': (VotingClassifier(estimators=[('lr', LogisticRegression()), \n",
    "#                                                  ('rf', RandomForestClassifier()), \n",
    "#                                                  ('mnb', MultinomialNB()), \n",
    "#                                                  ('svc', KNeighborsClassifier())],                                           \n",
    "#                                             voting='hard'), )\n",
    "#         }    \n",
    "#                     ] #### end of instantiations list ####\n",
    "    \n",
    "    \n",
    "#     #### Grid Search ####\n",
    "    \n",
    "#     grid_search = GridSearchCV(pipeline, \n",
    "#                                instantiations,\n",
    "#                                cv=3,\n",
    "#                                n_jobs=-1,\n",
    "#                                verbose=3,\n",
    "#                                return_train_score=True)\n",
    "    \n",
    "#     #### Output Results ####\n",
    "    \n",
    "#     ## running an if statement to print the type of vectorizer used\n",
    "#     if vect == vectorizer[0]:\n",
    "#         vect_string = \"CountVectorizer\"\n",
    "    \n",
    "#     else:\n",
    "#         vect_string = \"Tf-IDF Vectorizer\"\n",
    "    \n",
    "#     ## fitting our model and printing our best scores and parameters\n",
    "#     grid_search.fit(X_train, y_train)\n",
    "#     print(f'''Best score for {vect_string} is: \n",
    "#     {round(grid_search.best_score_, 4)}\n",
    "#     ''')\n",
    "#     print(grid_search.best_params_)\n",
    "#     print(\"\")\n",
    "    \n",
    "#     ## appending our cv_results_ to the end of results\n",
    "#     results.append(grid_search.cv_results_)"
   ]
  },
  {
   "cell_type": "code",
   "execution_count": null,
   "metadata": {
    "id": "fDcOLsNUHy1a"
   },
   "outputs": [],
   "source": [
    "# results_df = pd.DataFrame(grid_search.cv_results_)\n",
    "# results_df['score_diff'] = results_df['mean_test_score'] - results_df['mean_train_score']\n",
    "# results_df['high_plus_diff'] = results_df['mean_test_score'] + results_df['score_diff']\n",
    "# results_df = results_df.sort_values('high_plus_diff', ascending = False)"
   ]
  },
  {
   "cell_type": "code",
   "execution_count": null,
   "metadata": {
    "id": "vKqIt0jjHy1d",
    "outputId": "2ad84fde-0070-4ac5-8194-19a316d02f43"
   },
   "outputs": [
    {
     "data": {
      "text/html": [
       "<div>\n",
       "<style scoped>\n",
       "    .dataframe tbody tr th:only-of-type {\n",
       "        vertical-align: middle;\n",
       "    }\n",
       "\n",
       "    .dataframe tbody tr th {\n",
       "        vertical-align: top;\n",
       "    }\n",
       "\n",
       "    .dataframe thead th {\n",
       "        text-align: right;\n",
       "    }\n",
       "</style>\n",
       "<table border=\"1\" class=\"dataframe\">\n",
       "  <thead>\n",
       "    <tr style=\"text-align: right;\">\n",
       "      <th></th>\n",
       "      <th>mean_fit_time</th>\n",
       "      <th>std_fit_time</th>\n",
       "      <th>mean_score_time</th>\n",
       "      <th>std_score_time</th>\n",
       "      <th>param_clf</th>\n",
       "      <th>param_clf__C</th>\n",
       "      <th>param_clf__penalty</th>\n",
       "      <th>param_vect__max_df</th>\n",
       "      <th>param_vect__max_features</th>\n",
       "      <th>param_vect__ngram_range</th>\n",
       "      <th>...</th>\n",
       "      <th>mean_test_score</th>\n",
       "      <th>std_test_score</th>\n",
       "      <th>rank_test_score</th>\n",
       "      <th>split0_train_score</th>\n",
       "      <th>split1_train_score</th>\n",
       "      <th>split2_train_score</th>\n",
       "      <th>mean_train_score</th>\n",
       "      <th>std_train_score</th>\n",
       "      <th>score_diff</th>\n",
       "      <th>high_plus_diff</th>\n",
       "    </tr>\n",
       "  </thead>\n",
       "  <tbody>\n",
       "    <tr>\n",
       "      <th>7</th>\n",
       "      <td>0.701761</td>\n",
       "      <td>0.007231</td>\n",
       "      <td>0.114018</td>\n",
       "      <td>0.023355</td>\n",
       "      <td>LogisticRegression(solver='liblinear')</td>\n",
       "      <td>0.5</td>\n",
       "      <td>l1</td>\n",
       "      <td>0.9</td>\n",
       "      <td>500</td>\n",
       "      <td>(1, 2)</td>\n",
       "      <td>...</td>\n",
       "      <td>0.306479</td>\n",
       "      <td>0.003600</td>\n",
       "      <td>113</td>\n",
       "      <td>0.373745</td>\n",
       "      <td>0.377196</td>\n",
       "      <td>0.371818</td>\n",
       "      <td>0.374253</td>\n",
       "      <td>0.002225</td>\n",
       "      <td>-0.067774</td>\n",
       "      <td>0.238705</td>\n",
       "    </tr>\n",
       "    <tr>\n",
       "      <th>15</th>\n",
       "      <td>0.601833</td>\n",
       "      <td>0.065945</td>\n",
       "      <td>0.122401</td>\n",
       "      <td>0.011323</td>\n",
       "      <td>LogisticRegression(solver='liblinear')</td>\n",
       "      <td>0.5</td>\n",
       "      <td>l1</td>\n",
       "      <td>0.8</td>\n",
       "      <td>500</td>\n",
       "      <td>(1, 2)</td>\n",
       "      <td>...</td>\n",
       "      <td>0.306479</td>\n",
       "      <td>0.003600</td>\n",
       "      <td>113</td>\n",
       "      <td>0.373745</td>\n",
       "      <td>0.377555</td>\n",
       "      <td>0.371818</td>\n",
       "      <td>0.374372</td>\n",
       "      <td>0.002384</td>\n",
       "      <td>-0.067894</td>\n",
       "      <td>0.238585</td>\n",
       "    </tr>\n",
       "    <tr>\n",
       "      <th>5</th>\n",
       "      <td>0.836362</td>\n",
       "      <td>0.054492</td>\n",
       "      <td>0.179583</td>\n",
       "      <td>0.050107</td>\n",
       "      <td>LogisticRegression(solver='liblinear')</td>\n",
       "      <td>0.5</td>\n",
       "      <td>l1</td>\n",
       "      <td>0.9</td>\n",
       "      <td>500</td>\n",
       "      <td>(1, 3)</td>\n",
       "      <td>...</td>\n",
       "      <td>0.306001</td>\n",
       "      <td>0.004124</td>\n",
       "      <td>115</td>\n",
       "      <td>0.372669</td>\n",
       "      <td>0.377913</td>\n",
       "      <td>0.372894</td>\n",
       "      <td>0.374492</td>\n",
       "      <td>0.002421</td>\n",
       "      <td>-0.068491</td>\n",
       "      <td>0.237509</td>\n",
       "    </tr>\n",
       "    <tr>\n",
       "      <th>13</th>\n",
       "      <td>1.219618</td>\n",
       "      <td>0.083486</td>\n",
       "      <td>0.160097</td>\n",
       "      <td>0.036570</td>\n",
       "      <td>LogisticRegression(solver='liblinear')</td>\n",
       "      <td>0.5</td>\n",
       "      <td>l1</td>\n",
       "      <td>0.8</td>\n",
       "      <td>500</td>\n",
       "      <td>(1, 3)</td>\n",
       "      <td>...</td>\n",
       "      <td>0.306001</td>\n",
       "      <td>0.004124</td>\n",
       "      <td>115</td>\n",
       "      <td>0.372669</td>\n",
       "      <td>0.377913</td>\n",
       "      <td>0.372894</td>\n",
       "      <td>0.374492</td>\n",
       "      <td>0.002421</td>\n",
       "      <td>-0.068491</td>\n",
       "      <td>0.237509</td>\n",
       "    </tr>\n",
       "    <tr>\n",
       "      <th>6</th>\n",
       "      <td>0.697246</td>\n",
       "      <td>0.050164</td>\n",
       "      <td>0.106463</td>\n",
       "      <td>0.005930</td>\n",
       "      <td>LogisticRegression(solver='liblinear')</td>\n",
       "      <td>0.5</td>\n",
       "      <td>l1</td>\n",
       "      <td>0.9</td>\n",
       "      <td>500</td>\n",
       "      <td>(1, 2)</td>\n",
       "      <td>...</td>\n",
       "      <td>0.301936</td>\n",
       "      <td>0.006444</td>\n",
       "      <td>123</td>\n",
       "      <td>0.375179</td>\n",
       "      <td>0.376120</td>\n",
       "      <td>0.376120</td>\n",
       "      <td>0.375807</td>\n",
       "      <td>0.000444</td>\n",
       "      <td>-0.073870</td>\n",
       "      <td>0.228066</td>\n",
       "    </tr>\n",
       "    <tr>\n",
       "      <th>...</th>\n",
       "      <td>...</td>\n",
       "      <td>...</td>\n",
       "      <td>...</td>\n",
       "      <td>...</td>\n",
       "      <td>...</td>\n",
       "      <td>...</td>\n",
       "      <td>...</td>\n",
       "      <td>...</td>\n",
       "      <td>...</td>\n",
       "      <td>...</td>\n",
       "      <td>...</td>\n",
       "      <td>...</td>\n",
       "      <td>...</td>\n",
       "      <td>...</td>\n",
       "      <td>...</td>\n",
       "      <td>...</td>\n",
       "      <td>...</td>\n",
       "      <td>...</td>\n",
       "      <td>...</td>\n",
       "      <td>...</td>\n",
       "      <td>...</td>\n",
       "    </tr>\n",
       "    <tr>\n",
       "      <th>120</th>\n",
       "      <td>1.678925</td>\n",
       "      <td>0.048984</td>\n",
       "      <td>1.009266</td>\n",
       "      <td>0.120788</td>\n",
       "      <td>KNeighborsClassifier()</td>\n",
       "      <td>NaN</td>\n",
       "      <td>NaN</td>\n",
       "      <td>0.8</td>\n",
       "      <td>300</td>\n",
       "      <td>(1, 3)</td>\n",
       "      <td>...</td>\n",
       "      <td>0.219462</td>\n",
       "      <td>0.031861</td>\n",
       "      <td>179</td>\n",
       "      <td>1.000000</td>\n",
       "      <td>0.998924</td>\n",
       "      <td>0.999283</td>\n",
       "      <td>0.999402</td>\n",
       "      <td>0.000447</td>\n",
       "      <td>-0.779940</td>\n",
       "      <td>-0.560478</td>\n",
       "    </tr>\n",
       "    <tr>\n",
       "      <th>113</th>\n",
       "      <td>1.304747</td>\n",
       "      <td>0.078211</td>\n",
       "      <td>0.735336</td>\n",
       "      <td>0.046192</td>\n",
       "      <td>KNeighborsClassifier()</td>\n",
       "      <td>NaN</td>\n",
       "      <td>NaN</td>\n",
       "      <td>0.9</td>\n",
       "      <td>300</td>\n",
       "      <td>(1, 3)</td>\n",
       "      <td>...</td>\n",
       "      <td>0.218028</td>\n",
       "      <td>0.009655</td>\n",
       "      <td>183</td>\n",
       "      <td>0.998924</td>\n",
       "      <td>0.998207</td>\n",
       "      <td>0.998207</td>\n",
       "      <td>0.998446</td>\n",
       "      <td>0.000338</td>\n",
       "      <td>-0.780418</td>\n",
       "      <td>-0.562389</td>\n",
       "    </tr>\n",
       "    <tr>\n",
       "      <th>121</th>\n",
       "      <td>1.657034</td>\n",
       "      <td>0.082300</td>\n",
       "      <td>1.188079</td>\n",
       "      <td>0.070651</td>\n",
       "      <td>KNeighborsClassifier()</td>\n",
       "      <td>NaN</td>\n",
       "      <td>NaN</td>\n",
       "      <td>0.8</td>\n",
       "      <td>300</td>\n",
       "      <td>(1, 3)</td>\n",
       "      <td>...</td>\n",
       "      <td>0.218028</td>\n",
       "      <td>0.009655</td>\n",
       "      <td>183</td>\n",
       "      <td>0.998924</td>\n",
       "      <td>0.998207</td>\n",
       "      <td>0.998207</td>\n",
       "      <td>0.998446</td>\n",
       "      <td>0.000338</td>\n",
       "      <td>-0.780418</td>\n",
       "      <td>-0.562389</td>\n",
       "    </tr>\n",
       "    <tr>\n",
       "      <th>115</th>\n",
       "      <td>0.736727</td>\n",
       "      <td>0.018860</td>\n",
       "      <td>0.617709</td>\n",
       "      <td>0.035881</td>\n",
       "      <td>KNeighborsClassifier()</td>\n",
       "      <td>NaN</td>\n",
       "      <td>NaN</td>\n",
       "      <td>0.9</td>\n",
       "      <td>300</td>\n",
       "      <td>(1, 2)</td>\n",
       "      <td>...</td>\n",
       "      <td>0.214680</td>\n",
       "      <td>0.006798</td>\n",
       "      <td>187</td>\n",
       "      <td>0.998924</td>\n",
       "      <td>0.998207</td>\n",
       "      <td>0.998207</td>\n",
       "      <td>0.998446</td>\n",
       "      <td>0.000338</td>\n",
       "      <td>-0.783766</td>\n",
       "      <td>-0.569085</td>\n",
       "    </tr>\n",
       "    <tr>\n",
       "      <th>123</th>\n",
       "      <td>0.753107</td>\n",
       "      <td>0.045474</td>\n",
       "      <td>0.711773</td>\n",
       "      <td>0.082492</td>\n",
       "      <td>KNeighborsClassifier()</td>\n",
       "      <td>NaN</td>\n",
       "      <td>NaN</td>\n",
       "      <td>0.8</td>\n",
       "      <td>300</td>\n",
       "      <td>(1, 2)</td>\n",
       "      <td>...</td>\n",
       "      <td>0.214680</td>\n",
       "      <td>0.006798</td>\n",
       "      <td>187</td>\n",
       "      <td>0.998924</td>\n",
       "      <td>0.998207</td>\n",
       "      <td>0.998207</td>\n",
       "      <td>0.998446</td>\n",
       "      <td>0.000338</td>\n",
       "      <td>-0.783766</td>\n",
       "      <td>-0.569085</td>\n",
       "    </tr>\n",
       "  </tbody>\n",
       "</table>\n",
       "<p>192 rows × 28 columns</p>\n",
       "</div>"
      ],
      "text/plain": [
       "     mean_fit_time  std_fit_time  mean_score_time  std_score_time  \\\n",
       "7         0.701761      0.007231         0.114018        0.023355   \n",
       "15        0.601833      0.065945         0.122401        0.011323   \n",
       "5         0.836362      0.054492         0.179583        0.050107   \n",
       "13        1.219618      0.083486         0.160097        0.036570   \n",
       "6         0.697246      0.050164         0.106463        0.005930   \n",
       "..             ...           ...              ...             ...   \n",
       "120       1.678925      0.048984         1.009266        0.120788   \n",
       "113       1.304747      0.078211         0.735336        0.046192   \n",
       "121       1.657034      0.082300         1.188079        0.070651   \n",
       "115       0.736727      0.018860         0.617709        0.035881   \n",
       "123       0.753107      0.045474         0.711773        0.082492   \n",
       "\n",
       "                                  param_clf param_clf__C param_clf__penalty  \\\n",
       "7    LogisticRegression(solver='liblinear')          0.5                 l1   \n",
       "15   LogisticRegression(solver='liblinear')          0.5                 l1   \n",
       "5    LogisticRegression(solver='liblinear')          0.5                 l1   \n",
       "13   LogisticRegression(solver='liblinear')          0.5                 l1   \n",
       "6    LogisticRegression(solver='liblinear')          0.5                 l1   \n",
       "..                                      ...          ...                ...   \n",
       "120                  KNeighborsClassifier()          NaN                NaN   \n",
       "113                  KNeighborsClassifier()          NaN                NaN   \n",
       "121                  KNeighborsClassifier()          NaN                NaN   \n",
       "115                  KNeighborsClassifier()          NaN                NaN   \n",
       "123                  KNeighborsClassifier()          NaN                NaN   \n",
       "\n",
       "    param_vect__max_df param_vect__max_features param_vect__ngram_range  ...  \\\n",
       "7                  0.9                      500                  (1, 2)  ...   \n",
       "15                 0.8                      500                  (1, 2)  ...   \n",
       "5                  0.9                      500                  (1, 3)  ...   \n",
       "13                 0.8                      500                  (1, 3)  ...   \n",
       "6                  0.9                      500                  (1, 2)  ...   \n",
       "..                 ...                      ...                     ...  ...   \n",
       "120                0.8                      300                  (1, 3)  ...   \n",
       "113                0.9                      300                  (1, 3)  ...   \n",
       "121                0.8                      300                  (1, 3)  ...   \n",
       "115                0.9                      300                  (1, 2)  ...   \n",
       "123                0.8                      300                  (1, 2)  ...   \n",
       "\n",
       "    mean_test_score std_test_score rank_test_score split0_train_score  \\\n",
       "7          0.306479       0.003600             113           0.373745   \n",
       "15         0.306479       0.003600             113           0.373745   \n",
       "5          0.306001       0.004124             115           0.372669   \n",
       "13         0.306001       0.004124             115           0.372669   \n",
       "6          0.301936       0.006444             123           0.375179   \n",
       "..              ...            ...             ...                ...   \n",
       "120        0.219462       0.031861             179           1.000000   \n",
       "113        0.218028       0.009655             183           0.998924   \n",
       "121        0.218028       0.009655             183           0.998924   \n",
       "115        0.214680       0.006798             187           0.998924   \n",
       "123        0.214680       0.006798             187           0.998924   \n",
       "\n",
       "    split1_train_score  split2_train_score  mean_train_score  std_train_score  \\\n",
       "7             0.377196            0.371818          0.374253         0.002225   \n",
       "15            0.377555            0.371818          0.374372         0.002384   \n",
       "5             0.377913            0.372894          0.374492         0.002421   \n",
       "13            0.377913            0.372894          0.374492         0.002421   \n",
       "6             0.376120            0.376120          0.375807         0.000444   \n",
       "..                 ...                 ...               ...              ...   \n",
       "120           0.998924            0.999283          0.999402         0.000447   \n",
       "113           0.998207            0.998207          0.998446         0.000338   \n",
       "121           0.998207            0.998207          0.998446         0.000338   \n",
       "115           0.998207            0.998207          0.998446         0.000338   \n",
       "123           0.998207            0.998207          0.998446         0.000338   \n",
       "\n",
       "     score_diff  high_plus_diff  \n",
       "7     -0.067774        0.238705  \n",
       "15    -0.067894        0.238585  \n",
       "5     -0.068491        0.237509  \n",
       "13    -0.068491        0.237509  \n",
       "6     -0.073870        0.228066  \n",
       "..          ...             ...  \n",
       "120   -0.779940       -0.560478  \n",
       "113   -0.780418       -0.562389  \n",
       "121   -0.780418       -0.562389  \n",
       "115   -0.783766       -0.569085  \n",
       "123   -0.783766       -0.569085  \n",
       "\n",
       "[192 rows x 28 columns]"
      ]
     },
     "execution_count": 128,
     "metadata": {
      "tags": []
     },
     "output_type": "execute_result"
    }
   ],
   "source": [
    "results_df"
   ]
  },
  {
   "cell_type": "code",
   "execution_count": null,
   "metadata": {
    "id": "XjWcv4bpHy1e",
    "outputId": "09a14637-bdfe-4da2-f07f-f1075c322142"
   },
   "outputs": [
    {
     "data": {
      "text/html": [
       "<div>\n",
       "<style scoped>\n",
       "    .dataframe tbody tr th:only-of-type {\n",
       "        vertical-align: middle;\n",
       "    }\n",
       "\n",
       "    .dataframe tbody tr th {\n",
       "        vertical-align: top;\n",
       "    }\n",
       "\n",
       "    .dataframe thead th {\n",
       "        text-align: right;\n",
       "    }\n",
       "</style>\n",
       "<table border=\"1\" class=\"dataframe\">\n",
       "  <thead>\n",
       "    <tr style=\"text-align: right;\">\n",
       "      <th></th>\n",
       "      <th>mean_fit_time</th>\n",
       "      <th>std_fit_time</th>\n",
       "      <th>mean_score_time</th>\n",
       "      <th>std_score_time</th>\n",
       "      <th>param_clf</th>\n",
       "      <th>param_clf__C</th>\n",
       "      <th>param_clf__penalty</th>\n",
       "      <th>param_vect__max_df</th>\n",
       "      <th>param_vect__max_features</th>\n",
       "      <th>param_vect__ngram_range</th>\n",
       "      <th>...</th>\n",
       "      <th>mean_test_score</th>\n",
       "      <th>std_test_score</th>\n",
       "      <th>rank_test_score</th>\n",
       "      <th>split0_train_score</th>\n",
       "      <th>split1_train_score</th>\n",
       "      <th>split2_train_score</th>\n",
       "      <th>mean_train_score</th>\n",
       "      <th>std_train_score</th>\n",
       "      <th>score_diff</th>\n",
       "      <th>high_plus_diff</th>\n",
       "    </tr>\n",
       "  </thead>\n",
       "  <tbody>\n",
       "    <tr>\n",
       "      <th>7</th>\n",
       "      <td>0.701761</td>\n",
       "      <td>0.007231</td>\n",
       "      <td>0.114018</td>\n",
       "      <td>0.023355</td>\n",
       "      <td>LogisticRegression(solver='liblinear')</td>\n",
       "      <td>0.5</td>\n",
       "      <td>l1</td>\n",
       "      <td>0.9</td>\n",
       "      <td>500</td>\n",
       "      <td>(1, 2)</td>\n",
       "      <td>...</td>\n",
       "      <td>0.306479</td>\n",
       "      <td>0.003600</td>\n",
       "      <td>113</td>\n",
       "      <td>0.373745</td>\n",
       "      <td>0.377196</td>\n",
       "      <td>0.371818</td>\n",
       "      <td>0.374253</td>\n",
       "      <td>0.002225</td>\n",
       "      <td>-0.067774</td>\n",
       "      <td>0.238705</td>\n",
       "    </tr>\n",
       "    <tr>\n",
       "      <th>15</th>\n",
       "      <td>0.601833</td>\n",
       "      <td>0.065945</td>\n",
       "      <td>0.122401</td>\n",
       "      <td>0.011323</td>\n",
       "      <td>LogisticRegression(solver='liblinear')</td>\n",
       "      <td>0.5</td>\n",
       "      <td>l1</td>\n",
       "      <td>0.8</td>\n",
       "      <td>500</td>\n",
       "      <td>(1, 2)</td>\n",
       "      <td>...</td>\n",
       "      <td>0.306479</td>\n",
       "      <td>0.003600</td>\n",
       "      <td>113</td>\n",
       "      <td>0.373745</td>\n",
       "      <td>0.377555</td>\n",
       "      <td>0.371818</td>\n",
       "      <td>0.374372</td>\n",
       "      <td>0.002384</td>\n",
       "      <td>-0.067894</td>\n",
       "      <td>0.238585</td>\n",
       "    </tr>\n",
       "    <tr>\n",
       "      <th>5</th>\n",
       "      <td>0.836362</td>\n",
       "      <td>0.054492</td>\n",
       "      <td>0.179583</td>\n",
       "      <td>0.050107</td>\n",
       "      <td>LogisticRegression(solver='liblinear')</td>\n",
       "      <td>0.5</td>\n",
       "      <td>l1</td>\n",
       "      <td>0.9</td>\n",
       "      <td>500</td>\n",
       "      <td>(1, 3)</td>\n",
       "      <td>...</td>\n",
       "      <td>0.306001</td>\n",
       "      <td>0.004124</td>\n",
       "      <td>115</td>\n",
       "      <td>0.372669</td>\n",
       "      <td>0.377913</td>\n",
       "      <td>0.372894</td>\n",
       "      <td>0.374492</td>\n",
       "      <td>0.002421</td>\n",
       "      <td>-0.068491</td>\n",
       "      <td>0.237509</td>\n",
       "    </tr>\n",
       "    <tr>\n",
       "      <th>13</th>\n",
       "      <td>1.219618</td>\n",
       "      <td>0.083486</td>\n",
       "      <td>0.160097</td>\n",
       "      <td>0.036570</td>\n",
       "      <td>LogisticRegression(solver='liblinear')</td>\n",
       "      <td>0.5</td>\n",
       "      <td>l1</td>\n",
       "      <td>0.8</td>\n",
       "      <td>500</td>\n",
       "      <td>(1, 3)</td>\n",
       "      <td>...</td>\n",
       "      <td>0.306001</td>\n",
       "      <td>0.004124</td>\n",
       "      <td>115</td>\n",
       "      <td>0.372669</td>\n",
       "      <td>0.377913</td>\n",
       "      <td>0.372894</td>\n",
       "      <td>0.374492</td>\n",
       "      <td>0.002421</td>\n",
       "      <td>-0.068491</td>\n",
       "      <td>0.237509</td>\n",
       "    </tr>\n",
       "    <tr>\n",
       "      <th>6</th>\n",
       "      <td>0.697246</td>\n",
       "      <td>0.050164</td>\n",
       "      <td>0.106463</td>\n",
       "      <td>0.005930</td>\n",
       "      <td>LogisticRegression(solver='liblinear')</td>\n",
       "      <td>0.5</td>\n",
       "      <td>l1</td>\n",
       "      <td>0.9</td>\n",
       "      <td>500</td>\n",
       "      <td>(1, 2)</td>\n",
       "      <td>...</td>\n",
       "      <td>0.301936</td>\n",
       "      <td>0.006444</td>\n",
       "      <td>123</td>\n",
       "      <td>0.375179</td>\n",
       "      <td>0.376120</td>\n",
       "      <td>0.376120</td>\n",
       "      <td>0.375807</td>\n",
       "      <td>0.000444</td>\n",
       "      <td>-0.073870</td>\n",
       "      <td>0.228066</td>\n",
       "    </tr>\n",
       "    <tr>\n",
       "      <th>...</th>\n",
       "      <td>...</td>\n",
       "      <td>...</td>\n",
       "      <td>...</td>\n",
       "      <td>...</td>\n",
       "      <td>...</td>\n",
       "      <td>...</td>\n",
       "      <td>...</td>\n",
       "      <td>...</td>\n",
       "      <td>...</td>\n",
       "      <td>...</td>\n",
       "      <td>...</td>\n",
       "      <td>...</td>\n",
       "      <td>...</td>\n",
       "      <td>...</td>\n",
       "      <td>...</td>\n",
       "      <td>...</td>\n",
       "      <td>...</td>\n",
       "      <td>...</td>\n",
       "      <td>...</td>\n",
       "      <td>...</td>\n",
       "      <td>...</td>\n",
       "    </tr>\n",
       "    <tr>\n",
       "      <th>120</th>\n",
       "      <td>1.678925</td>\n",
       "      <td>0.048984</td>\n",
       "      <td>1.009266</td>\n",
       "      <td>0.120788</td>\n",
       "      <td>KNeighborsClassifier()</td>\n",
       "      <td>NaN</td>\n",
       "      <td>NaN</td>\n",
       "      <td>0.8</td>\n",
       "      <td>300</td>\n",
       "      <td>(1, 3)</td>\n",
       "      <td>...</td>\n",
       "      <td>0.219462</td>\n",
       "      <td>0.031861</td>\n",
       "      <td>179</td>\n",
       "      <td>1.000000</td>\n",
       "      <td>0.998924</td>\n",
       "      <td>0.999283</td>\n",
       "      <td>0.999402</td>\n",
       "      <td>0.000447</td>\n",
       "      <td>-0.779940</td>\n",
       "      <td>-0.560478</td>\n",
       "    </tr>\n",
       "    <tr>\n",
       "      <th>113</th>\n",
       "      <td>1.304747</td>\n",
       "      <td>0.078211</td>\n",
       "      <td>0.735336</td>\n",
       "      <td>0.046192</td>\n",
       "      <td>KNeighborsClassifier()</td>\n",
       "      <td>NaN</td>\n",
       "      <td>NaN</td>\n",
       "      <td>0.9</td>\n",
       "      <td>300</td>\n",
       "      <td>(1, 3)</td>\n",
       "      <td>...</td>\n",
       "      <td>0.218028</td>\n",
       "      <td>0.009655</td>\n",
       "      <td>183</td>\n",
       "      <td>0.998924</td>\n",
       "      <td>0.998207</td>\n",
       "      <td>0.998207</td>\n",
       "      <td>0.998446</td>\n",
       "      <td>0.000338</td>\n",
       "      <td>-0.780418</td>\n",
       "      <td>-0.562389</td>\n",
       "    </tr>\n",
       "    <tr>\n",
       "      <th>121</th>\n",
       "      <td>1.657034</td>\n",
       "      <td>0.082300</td>\n",
       "      <td>1.188079</td>\n",
       "      <td>0.070651</td>\n",
       "      <td>KNeighborsClassifier()</td>\n",
       "      <td>NaN</td>\n",
       "      <td>NaN</td>\n",
       "      <td>0.8</td>\n",
       "      <td>300</td>\n",
       "      <td>(1, 3)</td>\n",
       "      <td>...</td>\n",
       "      <td>0.218028</td>\n",
       "      <td>0.009655</td>\n",
       "      <td>183</td>\n",
       "      <td>0.998924</td>\n",
       "      <td>0.998207</td>\n",
       "      <td>0.998207</td>\n",
       "      <td>0.998446</td>\n",
       "      <td>0.000338</td>\n",
       "      <td>-0.780418</td>\n",
       "      <td>-0.562389</td>\n",
       "    </tr>\n",
       "    <tr>\n",
       "      <th>115</th>\n",
       "      <td>0.736727</td>\n",
       "      <td>0.018860</td>\n",
       "      <td>0.617709</td>\n",
       "      <td>0.035881</td>\n",
       "      <td>KNeighborsClassifier()</td>\n",
       "      <td>NaN</td>\n",
       "      <td>NaN</td>\n",
       "      <td>0.9</td>\n",
       "      <td>300</td>\n",
       "      <td>(1, 2)</td>\n",
       "      <td>...</td>\n",
       "      <td>0.214680</td>\n",
       "      <td>0.006798</td>\n",
       "      <td>187</td>\n",
       "      <td>0.998924</td>\n",
       "      <td>0.998207</td>\n",
       "      <td>0.998207</td>\n",
       "      <td>0.998446</td>\n",
       "      <td>0.000338</td>\n",
       "      <td>-0.783766</td>\n",
       "      <td>-0.569085</td>\n",
       "    </tr>\n",
       "    <tr>\n",
       "      <th>123</th>\n",
       "      <td>0.753107</td>\n",
       "      <td>0.045474</td>\n",
       "      <td>0.711773</td>\n",
       "      <td>0.082492</td>\n",
       "      <td>KNeighborsClassifier()</td>\n",
       "      <td>NaN</td>\n",
       "      <td>NaN</td>\n",
       "      <td>0.8</td>\n",
       "      <td>300</td>\n",
       "      <td>(1, 2)</td>\n",
       "      <td>...</td>\n",
       "      <td>0.214680</td>\n",
       "      <td>0.006798</td>\n",
       "      <td>187</td>\n",
       "      <td>0.998924</td>\n",
       "      <td>0.998207</td>\n",
       "      <td>0.998207</td>\n",
       "      <td>0.998446</td>\n",
       "      <td>0.000338</td>\n",
       "      <td>-0.783766</td>\n",
       "      <td>-0.569085</td>\n",
       "    </tr>\n",
       "  </tbody>\n",
       "</table>\n",
       "<p>192 rows × 28 columns</p>\n",
       "</div>"
      ],
      "text/plain": [
       "     mean_fit_time  std_fit_time  mean_score_time  std_score_time  \\\n",
       "7         0.701761      0.007231         0.114018        0.023355   \n",
       "15        0.601833      0.065945         0.122401        0.011323   \n",
       "5         0.836362      0.054492         0.179583        0.050107   \n",
       "13        1.219618      0.083486         0.160097        0.036570   \n",
       "6         0.697246      0.050164         0.106463        0.005930   \n",
       "..             ...           ...              ...             ...   \n",
       "120       1.678925      0.048984         1.009266        0.120788   \n",
       "113       1.304747      0.078211         0.735336        0.046192   \n",
       "121       1.657034      0.082300         1.188079        0.070651   \n",
       "115       0.736727      0.018860         0.617709        0.035881   \n",
       "123       0.753107      0.045474         0.711773        0.082492   \n",
       "\n",
       "                                  param_clf param_clf__C param_clf__penalty  \\\n",
       "7    LogisticRegression(solver='liblinear')          0.5                 l1   \n",
       "15   LogisticRegression(solver='liblinear')          0.5                 l1   \n",
       "5    LogisticRegression(solver='liblinear')          0.5                 l1   \n",
       "13   LogisticRegression(solver='liblinear')          0.5                 l1   \n",
       "6    LogisticRegression(solver='liblinear')          0.5                 l1   \n",
       "..                                      ...          ...                ...   \n",
       "120                  KNeighborsClassifier()          NaN                NaN   \n",
       "113                  KNeighborsClassifier()          NaN                NaN   \n",
       "121                  KNeighborsClassifier()          NaN                NaN   \n",
       "115                  KNeighborsClassifier()          NaN                NaN   \n",
       "123                  KNeighborsClassifier()          NaN                NaN   \n",
       "\n",
       "    param_vect__max_df param_vect__max_features param_vect__ngram_range  ...  \\\n",
       "7                  0.9                      500                  (1, 2)  ...   \n",
       "15                 0.8                      500                  (1, 2)  ...   \n",
       "5                  0.9                      500                  (1, 3)  ...   \n",
       "13                 0.8                      500                  (1, 3)  ...   \n",
       "6                  0.9                      500                  (1, 2)  ...   \n",
       "..                 ...                      ...                     ...  ...   \n",
       "120                0.8                      300                  (1, 3)  ...   \n",
       "113                0.9                      300                  (1, 3)  ...   \n",
       "121                0.8                      300                  (1, 3)  ...   \n",
       "115                0.9                      300                  (1, 2)  ...   \n",
       "123                0.8                      300                  (1, 2)  ...   \n",
       "\n",
       "    mean_test_score std_test_score rank_test_score split0_train_score  \\\n",
       "7          0.306479       0.003600             113           0.373745   \n",
       "15         0.306479       0.003600             113           0.373745   \n",
       "5          0.306001       0.004124             115           0.372669   \n",
       "13         0.306001       0.004124             115           0.372669   \n",
       "6          0.301936       0.006444             123           0.375179   \n",
       "..              ...            ...             ...                ...   \n",
       "120        0.219462       0.031861             179           1.000000   \n",
       "113        0.218028       0.009655             183           0.998924   \n",
       "121        0.218028       0.009655             183           0.998924   \n",
       "115        0.214680       0.006798             187           0.998924   \n",
       "123        0.214680       0.006798             187           0.998924   \n",
       "\n",
       "    split1_train_score  split2_train_score  mean_train_score  std_train_score  \\\n",
       "7             0.377196            0.371818          0.374253         0.002225   \n",
       "15            0.377555            0.371818          0.374372         0.002384   \n",
       "5             0.377913            0.372894          0.374492         0.002421   \n",
       "13            0.377913            0.372894          0.374492         0.002421   \n",
       "6             0.376120            0.376120          0.375807         0.000444   \n",
       "..                 ...                 ...               ...              ...   \n",
       "120           0.998924            0.999283          0.999402         0.000447   \n",
       "113           0.998207            0.998207          0.998446         0.000338   \n",
       "121           0.998207            0.998207          0.998446         0.000338   \n",
       "115           0.998207            0.998207          0.998446         0.000338   \n",
       "123           0.998207            0.998207          0.998446         0.000338   \n",
       "\n",
       "     score_diff  high_plus_diff  \n",
       "7     -0.067774        0.238705  \n",
       "15    -0.067894        0.238585  \n",
       "5     -0.068491        0.237509  \n",
       "13    -0.068491        0.237509  \n",
       "6     -0.073870        0.228066  \n",
       "..          ...             ...  \n",
       "120   -0.779940       -0.560478  \n",
       "113   -0.780418       -0.562389  \n",
       "121   -0.780418       -0.562389  \n",
       "115   -0.783766       -0.569085  \n",
       "123   -0.783766       -0.569085  \n",
       "\n",
       "[192 rows x 28 columns]"
      ]
     },
     "execution_count": 129,
     "metadata": {
      "tags": []
     },
     "output_type": "execute_result"
    }
   ],
   "source": [
    "# results_df.sort_values('score_diff', ascending = False)"
   ]
  },
  {
   "cell_type": "code",
   "execution_count": null,
   "metadata": {
    "id": "X3EWLjWXHy1e"
   },
   "outputs": [],
   "source": [
    "X = wine_df['description']\n",
    "y = wine_df['varietal']"
   ]
  },
  {
   "cell_type": "code",
   "execution_count": null,
   "metadata": {
    "id": "wJulMzbBHy1f"
   },
   "outputs": [],
   "source": [
    "X_train, X_test, y_train, y_test = train_test_split(X, y,\n",
    "                                                   test_size = .33, \n",
    "                                                   stratify = y, \n",
    "                                                   random_state = 42)"
   ]
  },
  {
   "cell_type": "markdown",
   "metadata": {
    "id": "0WZUs4ZkHy1f"
   },
   "source": [
    "# Vectorizing"
   ]
  },
  {
   "cell_type": "markdown",
   "metadata": {
    "id": "qoMdZOjOHy1f"
   },
   "source": [
    "'clf': MultinomialNB(), 'clf__alpha': 1.0, 'vect__max_df': 0.9, 'vect__max_features': 500, 'vect__ngram_range': (1, 3), 'vect__stop_words': 'english'"
   ]
  },
  {
   "cell_type": "code",
   "execution_count": null,
   "metadata": {
    "colab": {
     "base_uri": "https://localhost:8080/"
    },
    "id": "wvaTlcIBHy1f",
    "outputId": "ee545554-6cd6-481a-e7b4-7a0693909014"
   },
   "outputs": [
    {
     "data": {
      "text/plain": [
       "CountVectorizer(analyzer='word', binary=False, decode_error='strict',\n",
       "                dtype=<class 'numpy.int64'>, encoding='utf-8', input='content',\n",
       "                lowercase=True, max_df=0.9, max_features=500, min_df=1,\n",
       "                ngram_range=(1, 3), preprocessor=None, stop_words='english',\n",
       "                strip_accents=None, token_pattern='(?u)\\\\b\\\\w\\\\w+\\\\b',\n",
       "                tokenizer=None, vocabulary=None)"
      ]
     },
     "execution_count": 32,
     "metadata": {
      "tags": []
     },
     "output_type": "execute_result"
    }
   ],
   "source": [
    "# Instantiate CountVectorizer()\n",
    "cvec = CountVectorizer(max_df = .9, max_features = 500, \n",
    "                       ngram_range = (1,3), stop_words = 'english')\n",
    "\n",
    "# fit CountVectorizer()\n",
    "cvec.fit(X_train)"
   ]
  },
  {
   "cell_type": "code",
   "execution_count": null,
   "metadata": {
    "id": "XGmewI2BHy1g"
   },
   "outputs": [],
   "source": [
    "# Transform the corpus on training data\n",
    "X_train = cvec.transform(X_train)\n",
    "X_test = cvec.transform(X_test)"
   ]
  },
  {
   "cell_type": "markdown",
   "metadata": {
    "id": "59g76X_vHy1e"
   },
   "source": [
    "# Multinomial Naive Bayes \n",
    "* with more samples and the best performing hyperparameters from above. "
   ]
  },
  {
   "cell_type": "code",
   "execution_count": null,
   "metadata": {
    "id": "tXVnZr18Hy1j"
   },
   "outputs": [],
   "source": [
    "mnb = MultinomialNB(alpha = 1.0)\n",
    "mnb.fit(X_train, y_train)\n",
    "train_preds = mnb.predict(X_train)\n",
    "preds = mnb.predict(X_test)"
   ]
  },
  {
   "cell_type": "code",
   "execution_count": null,
   "metadata": {
    "colab": {
     "base_uri": "https://localhost:8080/"
    },
    "id": "2FYCBZzpHy1j",
    "outputId": "a6917ee5-4d88-4bef-c9f3-a39f5dd87c8f"
   },
   "outputs": [
    {
     "name": "stdout",
     "output_type": "stream",
     "text": [
      "Training F1 Score: 50.76\n",
      "Test F1 Score: 49.23\n"
     ]
    }
   ],
   "source": [
    "# Testing Score\n",
    "score = metrics.f1_score(y_test, preds, average = 'micro')\n",
    "\n",
    "# Training Score\n",
    "score_train = metrics.f1_score(y_train, train_preds, average = 'micro')\n",
    "\n",
    "print(f'Training F1 Score: {round(score_train * 100, 2)}')\n",
    "print(f'Test F1 Score: {round(score * 100, 2)}')\n",
    "\n"
   ]
  },
  {
   "cell_type": "markdown",
   "metadata": {
    "id": "YJ0eaVNLHy1k"
   },
   "source": [
    "# Logisitic Regression"
   ]
  },
  {
   "cell_type": "code",
   "execution_count": null,
   "metadata": {
    "id": "I_GZq3-LHy1k"
   },
   "outputs": [],
   "source": [
    "# log_reg = LogisticRegression(solver = 'liblinear')\n",
    "# log_reg.fit(X_train, y_train)\n",
    "# train_preds = log_reg.predict(X_train)\n",
    "# preds = mnb.predict(X_test)"
   ]
  },
  {
   "cell_type": "code",
   "execution_count": null,
   "metadata": {
    "id": "qf7JVL41Hy1k",
    "outputId": "5f25a9b2-3c69-430d-bb6c-09063386e99f"
   },
   "outputs": [
    {
     "name": "stdout",
     "output_type": "stream",
     "text": [
      "Training F1 Score: 54.92\n",
      "Test F1 Score: 49.23\n"
     ]
    }
   ],
   "source": [
    "# # Testing Score\n",
    "# score = metrics.f1_score(y_test, preds, average = 'micro')\n",
    "\n",
    "# # Training Score\n",
    "# score_train = metrics.f1_score(y_train, train_preds, average = 'micro')\n",
    "\n",
    "# print(f'Training F1 Score: {round(score_train * 100, 2)}')\n",
    "# print(f'Test F1 Score: {round(score * 100, 2)}')"
   ]
  },
  {
   "cell_type": "markdown",
   "metadata": {
    "id": "jNGEDYFWHy1k"
   },
   "source": [
    "# Bootstrap Imbalanced Classes\n",
    "\n",
    "#### SMOTE \n",
    "\n",
    "\"SMOTE stands for **Synthetic Minority Oversampling Technique.** This is a statistical technique for **increasing the number of cases in your dataset in a balanced way.** The module works by generating new instances from existing minority cases that you supply as input. This implementation of SMOTE does not change the number of majority cases.\n",
    "\n",
    "The **new instances are not just copies** of existing minority cases; instead, the algorithm takes samples of the feature space for each target class and its nearest neighbors, and generates new examples that combine features of the target case with features of its neighbors. This approach increases the features available to each class and makes the samples more general.\n",
    "\n",
    "SMOTE takes the entire dataset as an input, but it increases the percentage of only the minority cases. For example, suppose you have an imbalanced dataset where just 1% of the cases have the target value A (the minority class), and 99% of the cases have the value B. To increase the percentage of minority cases to twice the previous percentage, you would enter 200 for SMOTE percentage in the module's properties.\"\n",
    "\n",
    "* https://docs.microsoft.com/en-us/azure/machine-learning/studio-module-reference/smote#:~:text=SMOTE%20stands%20for%20Synthetic%20Minority,dataset%20in%20a%20balanced%20way.&text=SMOTE%20takes%20the%20entire%20dataset,of%20only%20the%20minority%20cases."
   ]
  },
  {
   "cell_type": "code",
   "execution_count": null,
   "metadata": {
    "id": "qbOoa83sHy1l"
   },
   "outputs": [],
   "source": [
    "def smote_oversample(x, y):\n",
    "\n",
    "    # Instantiate Oversampler\n",
    "    oversample = SMOTE()\n",
    "    \n",
    "    # fit oversampler\n",
    "    x, y = oversample.fit_resample(x, y)\n",
    "    \n",
    "    # Counter creates a dict that summarizes the distribution\n",
    "    counter = Counter(y)\n",
    "\n",
    "    for key, value in counter.items():\n",
    "        \n",
    "        # create variable with percentage of samples of each variable \n",
    "        percent = round(value / len(y_train) * 100, 2)\n",
    "        \n",
    "    # create df of target labels\n",
    "    ovr_sampled = pd.DataFrame(counter.keys(), columns = ['target_label'])\n",
    "    # append number of samples to df\n",
    "    ovr_sampled['num_samples'] = counter.values()\n",
    "    # append percentage of samples to df\n",
    "    ovr_sampled['percent'] = percent\n",
    "\n",
    "    plt.bar(ovr_sampled['target_label'], ovr_sampled['percent'])\n",
    "    \n",
    "    plt.title('Class Labels as Percentage of Samples')\n",
    "    plt.xlabel('Class')\n",
    "    plt.ylabel('Percentage of Labels')\n",
    "    plt.xticks(rotation = 90)\n",
    "    plt.show(); \n",
    "    \n",
    "    # return df of sample distributions\n",
    "    print(ovr_sampled)\n",
    "    \n",
    "    return x, y"
   ]
  },
  {
   "cell_type": "code",
   "execution_count": null,
   "metadata": {
    "colab": {
     "base_uri": "https://localhost:8080/",
     "height": 815
    },
    "id": "5HkfUVW3Hy1l",
    "outputId": "5f9c5751-301c-49e2-afcc-0c20741ea1e7",
    "scrolled": true
   },
   "outputs": [
    {
     "name": "stderr",
     "output_type": "stream",
     "text": [
      "/usr/local/lib/python3.6/dist-packages/sklearn/utils/deprecation.py:87: FutureWarning: Function safe_indexing is deprecated; safe_indexing is deprecated in version 0.22 and will be removed in version 0.24.\n",
      "  warnings.warn(msg, category=FutureWarning)\n"
     ]
    },
    {
     "data": {
      "image/png": "[encoded data removed]",
      "text/plain": [
       "<Figure size 432x288 with 1 Axes>"
      ]
     },
     "metadata": {
      "needs_background": "light",
      "tags": []
     },
     "output_type": "display_data"
    },
    {
     "name": "stdout",
     "output_type": "stream",
     "text": [
      "          target_label  num_samples  percent\n",
      "0      Sauvignon Blanc        10183    20.63\n",
      "1   Cabernet Sauvignon        10183    20.63\n",
      "2               Merlot        10183    20.63\n",
      "3           Sangiovese        10183    20.63\n",
      "4          Tempranillo        10183    20.63\n",
      "5             Riesling        10183    20.63\n",
      "6           Pinot Noir        10183    20.63\n",
      "7             Nebbiolo        10183    20.63\n",
      "8           Chardonnay        10183    20.63\n",
      "9                Syrah        10183    20.63\n",
      "10      Gewurztraminer        10183    20.63\n",
      "11        Pinot Grigio        10183    20.63\n",
      "12              Malbec        10183    20.63\n",
      "13           Zinfandel        10183    20.63\n",
      "14           Garganega        10183    20.63\n",
      "15    Gruner Veltliner        10183    20.63\n",
      "16            Viognier        10183    20.63\n",
      "17            Albarino        10183    20.63\n",
      "18               Glera        10183    20.63\n",
      "19            Grenache        10183    20.63\n",
      "20        Chenin Blanc        10183    20.63\n"
     ]
    }
   ],
   "source": [
    "XS_train, ys_train = smote_oversample(X_train, y_train)"
   ]
  },
  {
   "cell_type": "code",
   "execution_count": null,
   "metadata": {
    "id": "wjRUd6HlHy1l"
   },
   "outputs": [],
   "source": [
    "smote_mnb = MultinomialNB(alpha = 1.0)\n",
    "smote_mnb.fit(XS_train, ys_train)\n",
    "train_preds = smote_mnb.predict(XS_train)\n",
    "preds = smote_mnb.predict(X_test)"
   ]
  },
  {
   "cell_type": "code",
   "execution_count": null,
   "metadata": {
    "colab": {
     "base_uri": "https://localhost:8080/"
    },
    "id": "jqlqfRL8Hy1l",
    "outputId": "23fa739d-70e4-453c-9813-ab5a2daaca29"
   },
   "outputs": [
    {
     "name": "stdout",
     "output_type": "stream",
     "text": [
      "Training F1 Score: 38.77\n",
      "Test F1 Score: 44.19\n"
     ]
    }
   ],
   "source": [
    "# Testing Score\n",
    "score = metrics.f1_score(y_test, preds, average = 'micro')\n",
    "\n",
    "# Training Score\n",
    "score_train = metrics.f1_score(ys_train, train_preds, average = 'micro')\n",
    "\n",
    "print(f'Training F1 Score: {round(score_train * 100, 2)}')\n",
    "print(f'Test F1 Score: {round(score * 100, 2)}')\n",
    "\n"
   ]
  },
  {
   "cell_type": "code",
   "execution_count": null,
   "metadata": {
    "id": "8h83XzSBHy1m"
   },
   "outputs": [],
   "source": [
    "smote_log_reg = LogisticRegression(solver = 'liblinear')\n",
    "smote_log_reg.fit(XS_train, ys_train)\n",
    "train_preds = smote_mnb.predict(XS_train)\n",
    "preds = smote_mnb.predict(X_test)"
   ]
  },
  {
   "cell_type": "code",
   "execution_count": null,
   "metadata": {
    "colab": {
     "base_uri": "https://localhost:8080/"
    },
    "id": "KdQT6VjOHy1m",
    "outputId": "1e94373b-07b8-4ad5-d515-f21536c9ece3"
   },
   "outputs": [
    {
     "name": "stdout",
     "output_type": "stream",
     "text": [
      "Training F1 Score: 38.77\n",
      "Test F1 Score: 44.19\n"
     ]
    }
   ],
   "source": [
    "# Testing Score\n",
    "score = metrics.f1_score(y_test, preds, average = 'micro')\n",
    "\n",
    "# Training Score\n",
    "score_train = metrics.f1_score(ys_train, train_preds, average = 'micro')\n",
    "\n",
    "print(f'Training F1 Score: {round(score_train * 100, 2)}')\n",
    "print(f'Test F1 Score: {round(score * 100, 2)}')\n",
    "\n"
   ]
  },
  {
   "cell_type": "code",
   "execution_count": null,
   "metadata": {
    "id": "1XMFZEw_GSvu"
   },
   "outputs": [],
   "source": []
  }
 ],
 "metadata": {
  "colab": {
   "name": "Copy of 003_downsample_grid.ipynb",
   "provenance": []
  },
  "kernelspec": {
   "display_name": "Python 3",
   "language": "python",
   "name": "python3"
  },
  "language_info": {
   "codemirror_mode": {
    "name": "ipython",
    "version": 3
   },
   "file_extension": ".py",
   "mimetype": "text/x-python",
   "name": "python",
   "nbconvert_exporter": "python",
   "pygments_lexer": "ipython3",
   "version": "3.8.3"
  }
 },
 "nbformat": 4,
 "nbformat_minor": 1
}
