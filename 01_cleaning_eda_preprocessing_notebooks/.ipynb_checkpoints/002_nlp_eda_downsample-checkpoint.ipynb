{
 "cells": [
  {
   "cell_type": "markdown",
   "metadata": {},
   "source": [
    "_____\n",
    "# About This Notebook\n",
    "____\n",
    "### NLP Preprocessing and EDA (Downsampled Version)\n",
    "______\n",
    "\n",
    "This notebook is one of two notebooks that pertain to NLP preprocessing and EDA. This notebook in particular focuses on Downsampled Data. It includes more EDA than the imbalanced version as this version is dealing with a lighter and completely balanced dataset and is easier to push through timely functions/models. It is also necessary in some cases to have balanced data to get the most effectiveness from certain tools. One example of this necessity is the spaCy Scattertext pipeline which presupposes a balanced dataset and takes a while to render. \n",
    "\n",
    "This notebook takes two different CSV's: `002_white_clean.csv` and `002_red_clean.csv.` The notebooks are concatenated into a df called `wine`. It is then follows the following steps in the preprocessing and exploratory data analysis process:\n",
    "\n",
    "______\n",
    "**CONTENTS**\n",
    "* [Preprocessing](#Preprocessing)\n",
    "    * [Stop Words](#init_stops)\n",
    "    * [Target Label Encoding](#encode)\n",
    "    * [Spacy NLP](#spacy)\n",
    "    * [Class Balance](#class_bal)\n",
    "    * [Downsampling](#downsample)\n",
    "\n",
    "* [Exploratory Data Analysis (EDA)](#eda)\n",
    "    * [DisplaCy Dependecy Chart](#displacy)\n",
    "    * [DisplaCy Named Entity Chart](#ner)\n",
    "    * [Scattertext](#scatter)\n",
    "    * [Word Frequency Vectorization](#frequency)\n",
    "    * [Most Frequent Words](#topwords)\n",
    "    * [Saving CSV](#save)"
   ]
  },
  {
   "cell_type": "markdown",
   "metadata": {},
   "source": [
    "_____\n",
    "## Imports\n",
    "_____"
   ]
  },
  {
   "cell_type": "code",
   "execution_count": 118,
   "metadata": {},
   "outputs": [],
   "source": [
    "# Standard Libraries\n",
    "import pandas as pd\n",
    "import numpy as np\n",
    "import pickle as pkl\n",
    "\n",
    "import matplotlib.pyplot as plt\n",
    "import seaborn as sns\n",
    "\n",
    "# NLTK Libraries\n",
    "from nltk.corpus import stopwords\n",
    "from nltk.tokenize import word_tokenize, RegexpTokenizer\n",
    "from nltk.corpus import stopwords\n",
    "\n",
    "# SKLearn Libraries\n",
    "from sklearn.feature_extraction.text import CountVectorizer, TfidfVectorizer\n",
    "from sklearn.feature_extraction.text import TfidfTransformer\n",
    "from sklearn.feature_extraction import text\n",
    "from sklearn.preprocessing import LabelEncoder\n",
    "\n",
    "# Other NLP Libaries\n",
    "import re # regex\n",
    "import string\n",
    "\n",
    "# Spacy Imports\n",
    "import spacy\n",
    "from spacy.lang.en.stop_words import STOP_WORDS\n",
    "from spacy import displacy\n",
    "import scattertext as st\n",
    "from scattertext import CorpusFromPandas, produce_scattertext_explorer\n",
    "# import amrlib\n",
    "\n",
    "\n",
    "# imports related to deploying Spacy Scattertext within notebook and local browser.\n",
    "import os, pkgutil, json, urllib\n",
    "from urllib.request import urlopen\n",
    "from IPython.display import IFrame\n",
    "from IPython.core.display import display, HTML\n",
    "from pathlib import Path"
   ]
  },
  {
   "cell_type": "markdown",
   "metadata": {},
   "source": [
    "____\n",
    "## Read in Data\n",
    "____"
   ]
  },
  {
   "cell_type": "code",
   "execution_count": 119,
   "metadata": {},
   "outputs": [],
   "source": [
    "#### Importing White Wine Grapes ####\n",
    "\n",
    "## url to read data from Github to Google Colab ##\n",
    "# url1 = 'copied_raw_GH_link'\n",
    "\n",
    "grapes_white = pd.read_csv('../data/002_white_cleaned.csv')\n",
    "\n",
    "#### Importing Red Wine Grapes ####\n",
    "\n",
    "## url to read data from Github to Google Colab ## \n",
    "# url2 = 'copied_raw_GH_link'\n",
    "\n",
    "grapes_red = pd.read_csv('../data/002_red_cleaned.csv')"
   ]
  },
  {
   "cell_type": "code",
   "execution_count": 120,
   "metadata": {},
   "outputs": [
    {
     "data": {
      "text/html": [
       "<div>\n",
       "<style scoped>\n",
       "    .dataframe tbody tr th:only-of-type {\n",
       "        vertical-align: middle;\n",
       "    }\n",
       "\n",
       "    .dataframe tbody tr th {\n",
       "        vertical-align: top;\n",
       "    }\n",
       "\n",
       "    .dataframe thead th {\n",
       "        text-align: right;\n",
       "    }\n",
       "</style>\n",
       "<table border=\"1\" class=\"dataframe\">\n",
       "  <thead>\n",
       "    <tr style=\"text-align: right;\">\n",
       "      <th></th>\n",
       "      <th>winery</th>\n",
       "      <th>varietal</th>\n",
       "      <th>designation</th>\n",
       "      <th>country</th>\n",
       "      <th>province</th>\n",
       "      <th>description</th>\n",
       "      <th>region_1</th>\n",
       "      <th>region_2</th>\n",
       "      <th>points</th>\n",
       "      <th>price</th>\n",
       "      <th>taster_name</th>\n",
       "      <th>title</th>\n",
       "      <th>vareital</th>\n",
       "      <th>color</th>\n",
       "    </tr>\n",
       "  </thead>\n",
       "  <tbody>\n",
       "    <tr>\n",
       "      <th>0</th>\n",
       "      <td>St. Julian</td>\n",
       "      <td>Riesling</td>\n",
       "      <td>Reserve Late Harvest</td>\n",
       "      <td>US</td>\n",
       "      <td>Michigan</td>\n",
       "      <td>Pineapple rind, lemon pith and orange blossom ...</td>\n",
       "      <td>Lake Michigan Shore</td>\n",
       "      <td>unknown</td>\n",
       "      <td>87.0</td>\n",
       "      <td>13.0</td>\n",
       "      <td>Alexander Peartree</td>\n",
       "      <td>St. Julian 2013 Reserve Late Harvest Riesling ...</td>\n",
       "      <td>Riesling</td>\n",
       "      <td>white</td>\n",
       "    </tr>\n",
       "  </tbody>\n",
       "</table>\n",
       "</div>"
      ],
      "text/plain": [
       "       winery  varietal           designation country  province  \\\n",
       "0  St. Julian  Riesling  Reserve Late Harvest      US  Michigan   \n",
       "\n",
       "                                         description             region_1  \\\n",
       "0  Pineapple rind, lemon pith and orange blossom ...  Lake Michigan Shore   \n",
       "\n",
       "  region_2  points  price         taster_name  \\\n",
       "0  unknown    87.0   13.0  Alexander Peartree   \n",
       "\n",
       "                                               title  vareital  color  \n",
       "0  St. Julian 2013 Reserve Late Harvest Riesling ...  Riesling  white  "
      ]
     },
     "execution_count": 120,
     "metadata": {},
     "output_type": "execute_result"
    }
   ],
   "source": [
    "# Concatenating the two imports\n",
    "wine = pd.concat([grapes_white, grapes_red])\n",
    "\n",
    "# resetting index of new df\n",
    "wine.reset_index(drop = True, inplace = True)\n",
    "\n",
    "wine.head(1)"
   ]
  },
  {
   "cell_type": "markdown",
   "metadata": {},
   "source": [
    "<a id='Preprocessing'></a>\n",
    "_______\n",
    "# Preprocessing\n",
    "______"
   ]
  },
  {
   "cell_type": "markdown",
   "metadata": {},
   "source": [
    "_____\n",
    "**Notes Cleaning the Text**\n",
    "____\n",
    "When I printed the header of the wine_nlp DF i notice a class in the varietal section names 'White Blend.' This is problematic because it includes a variety of white grapes. I'm sure there is a 'Red Blend' label as well. To add another level of difficulty I noticed that the text in these descriptions include text that name the grapes, the regions and possibly even the producers. I am going to have to remove the names of the grapes, the regions and the producers from the descriptions as they would take away from what I am trying to accomplish. The ability for a model to predict the grape varietal based on tasting notes. There are also some difficulties in regards to the sommeliers including the manufacturing process in the tasting description. This is also troublesome because it is unrealistic to include notes about manufacturing process when you are tasting a wine. In many cases you don't know what your wine is and therefore cannot really discuss the manufacturing process, you can hypothesize about it but it doesn't happen often enought to justify terms regarding manufacturing process in the corpora. \n",
    "_____"
   ]
  },
  {
   "cell_type": "markdown",
   "metadata": {},
   "source": [
    "______\n",
    "**Cleaning Symbols/Numbers/Capital Letters**\n",
    "\n",
    "\n",
    "* This function takes in a df label and a series/column label, eliminates numbers, strips white space, lowercases characters, sets changes to original series/column. \n",
    "* I didn't want to remove punctuation yet because I believe the Spacy library accounts for punctuation when the model analyzes the corpus. I may be wrong but that is my understanding. "
   ]
  },
  {
   "cell_type": "code",
   "execution_count": 121,
   "metadata": {},
   "outputs": [],
   "source": [
    "def rmv_num_sym(df, series_label):\n",
    "    \n",
    "    # getting rid of numbers\n",
    "    df[series_label] = df[series_label].str.replace('\\d+', ' ')\n",
    "    \n",
    "    # getting rid of commas\n",
    "    df[series_label]= df[series_label].str.replace(',', '')\n",
    "     \n",
    "    # stripping white space\n",
    "    df[series_label]= df[series_label].str.strip(' ')\n",
    "    \n",
    "    # lowercase all remaining characters\n",
    "    df[series_label] = df[series_label].str.lower()\n",
    "    \n",
    "    # removing punctuation\n",
    "    tokenizer = RegexpTokenizer(r'\\w+')\n",
    "    df[series_label] = df[series_label].apply(tokenizer.tokenize)\n",
    "   \n",
    "    # make sure to reassign df to this function to set changes to permanent. \n",
    "    return df"
   ]
  },
  {
   "cell_type": "markdown",
   "metadata": {},
   "source": [
    "<a id='init_stops'></a>\n",
    "______\n",
    "## Initial Stop Words Creation\n",
    "______\n",
    "\n",
    "* **Note:** This list is going to be astronomically large in the traditional stop words sense. In order to correctly simulate what I am trying to do I need all mentions of region, varietal and other location data removed and need the words to include only tasting descriptors in much the same way a wine-taster doing blind tasting would do. \n",
    "* Here I create an initial stop words list. I like to make my stop words robust. Therefore, after implementing the spaCy nlp pipeline, I will add further to my stop-words list by using nltk stop words, count vectorizer stop words and Spacy stop words in my custom_stops list. "
   ]
  },
  {
   "cell_type": "code",
   "execution_count": 122,
   "metadata": {},
   "outputs": [
    {
     "name": "stdout",
     "output_type": "stream",
     "text": [
      "Stop words \"custom_stops\" list is 330 words long\n"
     ]
    }
   ],
   "source": [
    "# In this step I am creating a custom_stops list based on domain knowledge. \n",
    "custom_stops = ['cabernet sauvignon', 'cab', 'cabernet', 'pinot noir', 'pinot', \n",
    "                'chardonnay', 'chard', 'riesling', 'syrah', 'shiraz', 'petite', \n",
    "                'durif', 'sauvignon blanc', 'sauvignon', 'blanc', 'merlot', 'nebbiolo', \n",
    "                'zinfandel', 'zin', 'sangiovese', 'malbec', 'tempranillo', \n",
    "                'gruner veltliner', 'gruner', 'pinot grigio', 'pinot gris', \n",
    "                'gewurztraminer', 'viognier', 'grenache', 'glera', 'chenin blanc',\n",
    "                'albarino', 'alvarino', 'garganega', 'blend', 'chenin', 'grenache', \n",
    "                'brunello', 'di', 'montalcino', 'barolo', 'barbaresco', 'beaujolais',\n",
    "                'burgundy', 'bordeaux', 'rhone', 'gsm', 'champagne', 'cote', 'nuits', \n",
    "                'george', 'de', 'beaune', 'chassagne', 'montrachet', 'batard', \n",
    "                'chalonnaise', 'bourgogne', 'rouge', 'maconnais', 'chambolle', \n",
    "                'gevrey', 'vosne', 'romanee', 'conti', 'village', 'villages', 'cru', \n",
    "                'grand', 'volnay', 'meursalt', 'puligny', 'bouzeron', 'rully', 'mercurey', \n",
    "               'cremant', 'sparkling', 'grape', 'grapes', 'left-bank', \n",
    "                'right-bank', 'medoc', 'haut', 'st', 'estephe', 'pauillac', 'julien', 'st-julien', \n",
    "               'st-estephe', 'central', 'medoc', 'margaux', 'southern', 'graves', 'pessac-leognan',\n",
    "               'pomerol', 'saint-emilion', 'premier', 'aoc', 'doc', 'docg', 'appelation', \n",
    "               'classified', 'classification', 'rose', 'chateauneuf', 'pape', 'du', 'alsace', \n",
    "               'languedoc', 'roussillon', 'loire', 'mendoza', 'argentina', 'united', 'states', 'usa'\n",
    "               'ca', 'cali', 'napa', 'rutherford', 'oakville', 'loire', 'mosel', 'nahe', \n",
    "               'oregon', 'pfalz', 'piedmont', 'priorat', 'provence', 'rheingau', 'rhone', 'rhone valley',\n",
    "               'rioja', 'ribera', 'del', 'duero', 'porto', 'australia', 'australian'\n",
    "               'tokaj', 'tuscany', 'chianti', 'classico', 'igt', 'veneto', 'washington', \n",
    "               'paso', 'robles', 'santa', 'barbera', 'rita', 'hills', 'coast', 'france', 'italy',\n",
    "               'french', 'italian', 'spain', 'spanish', 'american', 'german', 'germany',\n",
    "               'hungarian', 'hungary', 'nero', 'avola', 'sicily', 'barbera', 'monastrell',\n",
    "               'garnacha', 'bonarda', 'argentina', 'argentinian', 'muller', 'thurgau', 'pinotage',\n",
    "               'africa', 'south', 'slopes', 'facing', 'chile', 'carmenere', 'touriga', \n",
    "               'portugal', 'portuguese', 'romania', 'romanian', 'greece', 'china', 'zealand', 'georgia',\n",
    "               'georgian', 'swiss', 'switzerland', 'uruguay', 'uruguayan', 'turkey', 'turkish',\n",
    "               'lebanese', 'lebanon', 'british', 'britain', 'calistoga', 'finishes', 'gives',\n",
    "               'diamond', 'district', 'spring', 'helena', 'howell', 'yountville', 'stags', \n",
    "               'stags leap', 'oak knoll', 'veeder', 'mount', 'coombsville', 'carneros', \n",
    "               'columbia', 'walla walla', 'walla', 'willamette', 'chehalem',\n",
    "               'ribbon', 'ridge', 'dundee', 'hills', 'yamhill', 'yamhill-carlton', 'eola-amity', \n",
    "                'eola', 'amity', 'mcminnville', 'umpqua', 'douglas', 'elkton', 'rogue', 'applegate',\n",
    "               'from', 'producer', 'vineyard', 'terroir', 'gorge', 'snake river', 'snake',\n",
    "               'neive', 'barbaresco', 'treiso', 'san rocco', 'la morra', 'monforte', 'd', 'alba',\n",
    "               'serralunga', 'barolo', 'novello', 'castiglione', 'falletto', 'verduno', 'grinzane',\n",
    "               'vitner', 'vitners', 'reserve', 'reserva', 'gran', 'crianza', '', 'palate', \n",
    "                'but', 'has', 'its', 'very', 'while','shows', 'offers', 'through', 'flavor', 'hints',\n",
    "                'opens', 'palate offers', 'alongside', 'scents','flavors', 'aromas', 'palate', \n",
    "                'offers', 'shows', 'like', 'alongside', 'flavor', 'feels', 'palate offers', 'delivers',\n",
    "                'mouthfeel', 'pinots', 'cabs', 'barolos', 'rieslings', 'brunellos', 'chiantis', 'napas', \n",
    "                'bargain', 'syrahs', 'rhones', 'bordeauxs', 'acidity', 'finish', 'feel', 'tones'\n",
    "                'barbarescos', 'merlots', 'screwcap', 'add', 'particularly', 'gets',\n",
    "                'everyday', 'asian', 'drinking', 'sip', 'despite', 'comes', 'like', 'flavors',\n",
    "                'flavor', 'kabinett', 'Kabinett', 'chards', 'shirazs', 'tannins', 'bodied', 'body', \n",
    "                'showing', 'bit']\n",
    "\n",
    "\n",
    "print(f'Stop words \"custom_stops\" list is {len(custom_stops)} words long')"
   ]
  },
  {
   "cell_type": "markdown",
   "metadata": {},
   "source": [
    "_____\n",
    "**Tokenizing Data From Other Columns for adding to Stop Words**\n",
    "\n",
    "* I noticed that many of the wineries, varietals, regions and locations were also in the descriptions. This is problematic if we are trying to predict varietal because all of these factors could lead to overfitting because their descriptors would be too descriptive. \n",
    "* Additionally, I am trying to simulate the description to be what a wine taster would right in the process of blind tasting. In that scenario it would be rare to discuss any of these factors. "
   ]
  },
  {
   "cell_type": "code",
   "execution_count": 123,
   "metadata": {},
   "outputs": [],
   "source": [
    "# looping through df columns for purpose of indexing\n",
    "for col in wine.columns:\n",
    "    \n",
    "    # looking for columns containing string objects\n",
    "    # also keeping columns out that I do not want through this process.\n",
    "    if wine[col].dtypes == 'O' and col not in ['color', \n",
    "                                               'taster_name',\n",
    "                                               'varietal']:\n",
    "        # calling function that removes numbers, symbols and tokenizes data.\n",
    "        rmv_num_sym(wine, col)"
   ]
  },
  {
   "cell_type": "code",
   "execution_count": 124,
   "metadata": {},
   "outputs": [
    {
     "data": {
      "text/html": [
       "<div>\n",
       "<style scoped>\n",
       "    .dataframe tbody tr th:only-of-type {\n",
       "        vertical-align: middle;\n",
       "    }\n",
       "\n",
       "    .dataframe tbody tr th {\n",
       "        vertical-align: top;\n",
       "    }\n",
       "\n",
       "    .dataframe thead th {\n",
       "        text-align: right;\n",
       "    }\n",
       "</style>\n",
       "<table border=\"1\" class=\"dataframe\">\n",
       "  <thead>\n",
       "    <tr style=\"text-align: right;\">\n",
       "      <th></th>\n",
       "      <th>winery</th>\n",
       "      <th>varietal</th>\n",
       "      <th>designation</th>\n",
       "      <th>country</th>\n",
       "      <th>province</th>\n",
       "      <th>description</th>\n",
       "      <th>region_1</th>\n",
       "      <th>region_2</th>\n",
       "      <th>points</th>\n",
       "      <th>price</th>\n",
       "      <th>taster_name</th>\n",
       "      <th>title</th>\n",
       "      <th>vareital</th>\n",
       "      <th>color</th>\n",
       "    </tr>\n",
       "  </thead>\n",
       "  <tbody>\n",
       "    <tr>\n",
       "      <th>0</th>\n",
       "      <td>[st, julian]</td>\n",
       "      <td>Riesling</td>\n",
       "      <td>[reserve, late, harvest]</td>\n",
       "      <td>[us]</td>\n",
       "      <td>[michigan]</td>\n",
       "      <td>[pineapple, rind, lemon, pith, and, orange, bl...</td>\n",
       "      <td>[lake, michigan, shore]</td>\n",
       "      <td>[unknown]</td>\n",
       "      <td>87.0</td>\n",
       "      <td>13.0</td>\n",
       "      <td>Alexander Peartree</td>\n",
       "      <td>[st, julian, reserve, late, harvest, riesling,...</td>\n",
       "      <td>[riesling]</td>\n",
       "      <td>white</td>\n",
       "    </tr>\n",
       "  </tbody>\n",
       "</table>\n",
       "</div>"
      ],
      "text/plain": [
       "         winery  varietal               designation country    province  \\\n",
       "0  [st, julian]  Riesling  [reserve, late, harvest]    [us]  [michigan]   \n",
       "\n",
       "                                         description                 region_1  \\\n",
       "0  [pineapple, rind, lemon, pith, and, orange, bl...  [lake, michigan, shore]   \n",
       "\n",
       "    region_2  points  price         taster_name  \\\n",
       "0  [unknown]    87.0   13.0  Alexander Peartree   \n",
       "\n",
       "                                               title    vareital  color  \n",
       "0  [st, julian, reserve, late, harvest, riesling,...  [riesling]  white  "
      ]
     },
     "execution_count": 124,
     "metadata": {},
     "output_type": "execute_result"
    }
   ],
   "source": [
    "wine.head(1)"
   ]
  },
  {
   "cell_type": "markdown",
   "metadata": {},
   "source": [
    "__________\n",
    "**appending data to `custom_stops`**\n",
    "\n",
    "* Taking data tokenized above and adding it to custom_stops"
   ]
  },
  {
   "cell_type": "code",
   "execution_count": 125,
   "metadata": {},
   "outputs": [
    {
     "name": "stdout",
     "output_type": "stream",
     "text": [
      "Stop words list \"custom_stops\" is 1277556 words long.\n"
     ]
    }
   ],
   "source": [
    "# looping through df columns for purpose of indexing\n",
    "for col in wine.columns:\n",
    "    \n",
    "    # looking for columns containing string objects\n",
    "    # also keeping columns out that I do not want through this process.\n",
    "    if wine[col].dtypes == 'O' and col not in ['color', \n",
    "                                               'taster_name',\n",
    "                                               'varietal', \n",
    "                                             'description', custom_stops]:\n",
    "        \n",
    "        # iterating through docs then iterating through tokens\n",
    "        for word in wine[col]:\n",
    "            for token in word:\n",
    "                # adding words to stops list\n",
    "                custom_stops.append(token)\n",
    "        \n",
    "# I will make this a set later. \n",
    "# If I make it a set now one of my functions later will not work. \n",
    "# It will eliminate over a million of these duplicate values.\n",
    "\n",
    "print(f'Stop words list \"custom_stops\" is {len(custom_stops)} words long.')"
   ]
  },
  {
   "cell_type": "code",
   "execution_count": 126,
   "metadata": {},
   "outputs": [],
   "source": [
    "def stop_word_merger(custom_stops_list):\n",
    "    \n",
    "    # import string library\n",
    "    import string\n",
    "    \n",
    "    # Merging Count Vectorizer Stop Words to Custom Stop Words\n",
    "    # Union is used because cvec stops are a frozen set. \n",
    "    stop_words_custom = text.ENGLISH_STOP_WORDS.union(custom_stops)\n",
    "    \n",
    "    # converting NLTK stops from frozen set to list in order to add to custom stops\n",
    "    nltk_stopwords = list(stopwords.words('english'))\n",
    "    \n",
    "    # again using union because stop_words_custom is a frozen set. \n",
    "    stop_words_custom = stop_words_custom.union(nltk_stopwords)\n",
    "    \n",
    "    spacy_stops = spacy.lang.en.stop_words.STOP_WORDS\n",
    "    \n",
    "    stop_words_custom = stop_words_custom.union(spacy_stops)\n",
    "    \n",
    "    stop_words_custom = stop_words_custom.union(list(string.ascii_lowercase))\n",
    "\n",
    "    stop_words_custom - stop_words_custom.union(list(string.ascii_uppercase))\n",
    "    \n",
    "    \n",
    "    \n",
    "    print(f'Length of Stop Words List: {len(stop_words_custom)}')\n",
    "    \n",
    "    # returning all (cvec, nltk, custom and Spacy) stop words lists as one list. \n",
    "    return stop_words_custom   "
   ]
  },
  {
   "cell_type": "code",
   "execution_count": 127,
   "metadata": {},
   "outputs": [
    {
     "name": "stdout",
     "output_type": "stream",
     "text": [
      "Length of Stop Words List: 22402\n"
     ]
    }
   ],
   "source": [
    "# creating a finalized stop word list with all stops included. \n",
    "final_stops = stop_word_merger(custom_stops)"
   ]
  },
  {
   "cell_type": "code",
   "execution_count": 128,
   "metadata": {},
   "outputs": [
    {
     "data": {
      "text/plain": [
       "0    pineapple rind lemon pith and orange blossom s...\n",
       "1    this dry and restrained wine offers spice in p...\n",
       "Name: description, dtype: object"
      ]
     },
     "execution_count": 128,
     "metadata": {},
     "output_type": "execute_result"
    }
   ],
   "source": [
    "# reformatting descriptions column to text instead of list. \n",
    "# This needs to be done in order to run it through spacy pipeline below. \n",
    "wine['description'] = [' '.join(map(str, l)) for l in wine['description']]\n",
    "wine['description'].head(2)"
   ]
  },
  {
   "cell_type": "markdown",
   "metadata": {},
   "source": [
    "___\n",
    "### Checking Amount of Stop Words\n",
    "_____"
   ]
  },
  {
   "cell_type": "code",
   "execution_count": 129,
   "metadata": {},
   "outputs": [],
   "source": [
    "def stop_words_checker(df, series_label, stop_words):\n",
    "    \n",
    "    # Function that checks to see how many of stop words are in a series\n",
    "    \n",
    "    count = 0\n",
    "    total_words = 0\n",
    "    \n",
    "    for post in df[series_label]:\n",
    "        for word in post.split():\n",
    "            if word in stop_words:\n",
    "                count += 1\n",
    "    \n",
    "    for posts in df[series_label]:\n",
    "        for word in post.split():\n",
    "            total_words += 1\n",
    "       \n",
    "    print(f'There are {count} stop words in this corpus.')\n",
    "    print(f'Out of {total_words} total words in corpus.')\n",
    "    print(f'Stop words account for {round((count / total_words * 100), ndigits = 2)}% of all words in corpus.')\n",
    "    "
   ]
  },
  {
   "cell_type": "code",
   "execution_count": 130,
   "metadata": {},
   "outputs": [
    {
     "name": "stdout",
     "output_type": "stream",
     "text": [
      "There are 2324765 stop words in this corpus.\n",
      "Out of 2872701 total words in corpus.\n",
      "Stop words account for 80.93% of all words in corpus.\n"
     ]
    }
   ],
   "source": [
    "stop_words_checker(wine, 'description', final_stops)"
   ]
  },
  {
   "cell_type": "markdown",
   "metadata": {},
   "source": [
    "_____\n",
    "### Removing Stops\n",
    "_____"
   ]
  },
  {
   "cell_type": "code",
   "execution_count": 131,
   "metadata": {},
   "outputs": [],
   "source": [
    "def remove_stop_words(df, series_label, stop_words):\n",
    "    \n",
    "    # A function that removes stop words from corpus\n",
    "    \n",
    "    df['stop_out'] = df[series_label].apply(lambda x: ' '.join([word for word in x.split() if word not in stop_words]))\n",
    "    df[series_label] = df['stop_out']\n",
    "    df.drop(columns = ['stop_out'], inplace = True)\n",
    "    df.reset_index(drop = True, inplace = True)\n",
    "    \n",
    "    return df"
   ]
  },
  {
   "cell_type": "code",
   "execution_count": 132,
   "metadata": {},
   "outputs": [],
   "source": [
    "# cleaning stop words\n",
    "wine = remove_stop_words(wine, 'description', final_stops)"
   ]
  },
  {
   "cell_type": "code",
   "execution_count": 133,
   "metadata": {},
   "outputs": [
    {
     "name": "stdout",
     "output_type": "stream",
     "text": [
      "There are 0 stop words in this corpus.\n",
      "Out of 810249 total words in corpus.\n",
      "Stop words account for 0.0% of all words in corpus.\n"
     ]
    }
   ],
   "source": [
    "# checking to see if stop words are gone\n",
    "stop_words_checker(wine, 'description', final_stops)"
   ]
  },
  {
   "cell_type": "markdown",
   "metadata": {},
   "source": [
    "______\n",
    "**Removing Words from `custom_stops`**\n",
    "\n",
    "* Remarkably, after a thorough scan there appears to be only one word in the custom_stops list that I would not like in the custom_stops list. That is the word 'structure.' It is a word that describes the core components of the wine. It may not even need to be in their but sometimes people use it to describe high-levels of these core components so I am going to remove it from the stop list. \n",
    "______"
   ]
  },
  {
   "cell_type": "code",
   "execution_count": 134,
   "metadata": {},
   "outputs": [],
   "source": [
    "def list_word_removal(your_list, keep_word):\n",
    "    # removing word from custom_stops\n",
    "    \n",
    "    count = 0 # count keeps track of num times word in list\n",
    "    count2 = 0 # count2 keeps track of num times word still in list\n",
    "    \n",
    "    # iterate through list to see if word in list\n",
    "    for word in your_list:\n",
    "        if word == keep_word:\n",
    "            count += 1 # add one if word in list\n",
    "            your_list.remove(word) # remove word if in list\n",
    "            \n",
    "    print(f'{keep_word} existed {np.sum(count)} times in this list.')\n",
    "    \n",
    "    #iterate through stop_list to see if word still exists\n",
    "    for word in your_list:\n",
    "        if word == keep_word:\n",
    "            count2 += 1 # add one if word still in list\n",
    "            \n",
    "    print(f'{keep_word} now appears {np.sum(count2)} times in this list.')"
   ]
  },
  {
   "cell_type": "code",
   "execution_count": 135,
   "metadata": {},
   "outputs": [
    {
     "name": "stdout",
     "output_type": "stream",
     "text": [
      "structure existed 12 times in this list.\n",
      "structure now appears 0 times in this list.\n",
      "stop_words list contains 22141 words.\n"
     ]
    }
   ],
   "source": [
    "# removing the word 'structure' from custom_stops using custom function\n",
    "list_word_removal(custom_stops, 'structure')\n",
    "\n",
    "# making custom_stops a set to eliminate duplicate values\n",
    "custom_stops = set(custom_stops)\n",
    "print(f'stop_words list contains {len(custom_stops)} words.')"
   ]
  },
  {
   "cell_type": "code",
   "execution_count": 136,
   "metadata": {},
   "outputs": [],
   "source": [
    "pickled_stops = open('../06_streamlit/pickled_stops', 'wb')\n",
    "pickle.dump('final_stops', pickled_stops)\n",
    "pickled_stops.close()"
   ]
  },
  {
   "cell_type": "markdown",
   "metadata": {},
   "source": [
    "____\n",
    "**Slicing DF to include only columns I will use in modeling**"
   ]
  },
  {
   "cell_type": "code",
   "execution_count": 137,
   "metadata": {},
   "outputs": [
    {
     "data": {
      "text/html": [
       "<div>\n",
       "<style scoped>\n",
       "    .dataframe tbody tr th:only-of-type {\n",
       "        vertical-align: middle;\n",
       "    }\n",
       "\n",
       "    .dataframe tbody tr th {\n",
       "        vertical-align: top;\n",
       "    }\n",
       "\n",
       "    .dataframe thead th {\n",
       "        text-align: right;\n",
       "    }\n",
       "</style>\n",
       "<table border=\"1\" class=\"dataframe\">\n",
       "  <thead>\n",
       "    <tr style=\"text-align: right;\">\n",
       "      <th></th>\n",
       "      <th>varietal</th>\n",
       "      <th>description</th>\n",
       "      <th>color</th>\n",
       "    </tr>\n",
       "  </thead>\n",
       "  <tbody>\n",
       "    <tr>\n",
       "      <th>0</th>\n",
       "      <td>Riesling</td>\n",
       "      <td>pineapple rind lemon pith blossom start bit op...</td>\n",
       "      <td>white</td>\n",
       "    </tr>\n",
       "    <tr>\n",
       "      <th>1</th>\n",
       "      <td>Gewurztraminer</td>\n",
       "      <td>restrained profusion balanced firm texture</td>\n",
       "      <td>white</td>\n",
       "    </tr>\n",
       "    <tr>\n",
       "      <th>2</th>\n",
       "      <td>Gewurztraminer</td>\n",
       "      <td>savory dried thyme accent sunnier preserved br...</td>\n",
       "      <td>white</td>\n",
       "    </tr>\n",
       "    <tr>\n",
       "      <th>3</th>\n",
       "      <td>Gewurztraminer</td>\n",
       "      <td>tight taut texture strongly layered aftertaste</td>\n",
       "      <td>white</td>\n",
       "    </tr>\n",
       "    <tr>\n",
       "      <th>4</th>\n",
       "      <td>Chardonnay</td>\n",
       "      <td>building trends leaner buttercream aroma sippi...</td>\n",
       "      <td>white</td>\n",
       "    </tr>\n",
       "    <tr>\n",
       "      <th>...</th>\n",
       "      <td>...</td>\n",
       "      <td>...</td>\n",
       "      <td>...</td>\n",
       "    </tr>\n",
       "    <tr>\n",
       "      <th>73654</th>\n",
       "      <td>Tempranillo</td>\n",
       "      <td>baked attention leather mild result disjointed...</td>\n",
       "      <td>red</td>\n",
       "    </tr>\n",
       "    <tr>\n",
       "      <th>73655</th>\n",
       "      <td>Cabernet Sauvignon</td>\n",
       "      <td>firm soften vanilla cassis</td>\n",
       "      <td>red</td>\n",
       "    </tr>\n",
       "    <tr>\n",
       "      <th>73656</th>\n",
       "      <td>Pinot Noir</td>\n",
       "      <td>hinting toasty future moment aging</td>\n",
       "      <td>red</td>\n",
       "    </tr>\n",
       "    <tr>\n",
       "      <th>73657</th>\n",
       "      <td>Cabernet Sauvignon</td>\n",
       "      <td>cranberry clove anisette espresso bean hint cr...</td>\n",
       "      <td>red</td>\n",
       "    </tr>\n",
       "    <tr>\n",
       "      <th>73658</th>\n",
       "      <td>Pinot Noir</td>\n",
       "      <td>given decade means cellared baked coconut comb...</td>\n",
       "      <td>red</td>\n",
       "    </tr>\n",
       "  </tbody>\n",
       "</table>\n",
       "<p>73659 rows × 3 columns</p>\n",
       "</div>"
      ],
      "text/plain": [
       "                 varietal                                        description  \\\n",
       "0                Riesling  pineapple rind lemon pith blossom start bit op...   \n",
       "1          Gewurztraminer         restrained profusion balanced firm texture   \n",
       "2          Gewurztraminer  savory dried thyme accent sunnier preserved br...   \n",
       "3          Gewurztraminer     tight taut texture strongly layered aftertaste   \n",
       "4              Chardonnay  building trends leaner buttercream aroma sippi...   \n",
       "...                   ...                                                ...   \n",
       "73654         Tempranillo  baked attention leather mild result disjointed...   \n",
       "73655  Cabernet Sauvignon                         firm soften vanilla cassis   \n",
       "73656          Pinot Noir                 hinting toasty future moment aging   \n",
       "73657  Cabernet Sauvignon  cranberry clove anisette espresso bean hint cr...   \n",
       "73658          Pinot Noir  given decade means cellared baked coconut comb...   \n",
       "\n",
       "       color  \n",
       "0      white  \n",
       "1      white  \n",
       "2      white  \n",
       "3      white  \n",
       "4      white  \n",
       "...      ...  \n",
       "73654    red  \n",
       "73655    red  \n",
       "73656    red  \n",
       "73657    red  \n",
       "73658    red  \n",
       "\n",
       "[73659 rows x 3 columns]"
      ]
     },
     "execution_count": 137,
     "metadata": {},
     "output_type": "execute_result"
    }
   ],
   "source": [
    "# create a sliced df containing only the description column and varietal\n",
    "wine_slim = wine.copy()[['varietal', 'description', 'color']]\n",
    "wine_slim"
   ]
  },
  {
   "cell_type": "markdown",
   "metadata": {},
   "source": [
    "<a id='class_bal'></a>\n",
    "_____\n",
    "## Class Balance Analysis\n",
    "_____"
   ]
  },
  {
   "cell_type": "code",
   "execution_count": 138,
   "metadata": {},
   "outputs": [],
   "source": [
    "# defining a function that takes in a df, a column list that includes target column\n",
    "# and a column that can be counted to determine value counts. \n",
    "# it returns a df with value counts and percentages of value counts\n",
    "# it also returns a plot of class imbalances.\n",
    "\n",
    "def class_balance_analyzer(df, target_col, count_col):\n",
    "    \n",
    "    # creating a df that groups by target classes\n",
    "    targets = df[[target_col, \n",
    "                  count_col]].groupby(target_col, as_index = False).count()\n",
    "    \n",
    "    # sorting target values by count descending\n",
    "    targets.sort_values(count_col, ascending = True, inplace = True)\n",
    "    \n",
    "    # renaming column for clarity\n",
    "    targets.rename(columns = {count_col: 'count'}, inplace = True)\n",
    "    \n",
    "    # resetting index\n",
    "    targets.reset_index(inplace = True, drop = True)\n",
    "    \n",
    "    targets['percent'] = round(targets['count'] / targets['count'].sum() * 100, 2)\n",
    "    \n",
    "    \n",
    "    plt.figure(figsize = (18,16))\n",
    "    plt.barh(targets[target_col], targets['count'], color = 'maroon')\n",
    "    \n",
    "    plt.title('Number of Observations in Each Target Class', fontdict = {'fontsize': 37})\n",
    "    plt.yticks(size = 15)\n",
    "    plt.xticks(rotation = 90, size = 20)\n",
    "    plt.ylabel('Classes', size = 40)\n",
    "    plt.xlabel('Number of Samples', size = 40)\n",
    "    \n",
    "    plt.show();\n",
    "    \n",
    "    return targets"
   ]
  },
  {
   "cell_type": "code",
   "execution_count": 139,
   "metadata": {
    "scrolled": false
   },
   "outputs": [
    {
     "data": {
      "image/png": "[encoded data removed]",
      "text/plain": [
       "<Figure size 1296x1152 with 1 Axes>"
      ]
     },
     "metadata": {
      "needs_background": "light"
     },
     "output_type": "display_data"
    },
    {
     "data": {
      "text/html": [
       "<div>\n",
       "<style scoped>\n",
       "    .dataframe tbody tr th:only-of-type {\n",
       "        vertical-align: middle;\n",
       "    }\n",
       "\n",
       "    .dataframe tbody tr th {\n",
       "        vertical-align: top;\n",
       "    }\n",
       "\n",
       "    .dataframe thead th {\n",
       "        text-align: right;\n",
       "    }\n",
       "</style>\n",
       "<table border=\"1\" class=\"dataframe\">\n",
       "  <thead>\n",
       "    <tr style=\"text-align: right;\">\n",
       "      <th></th>\n",
       "      <th>varietal</th>\n",
       "      <th>count</th>\n",
       "      <th>percent</th>\n",
       "    </tr>\n",
       "  </thead>\n",
       "  <tbody>\n",
       "    <tr>\n",
       "      <th>0</th>\n",
       "      <td>Garganega</td>\n",
       "      <td>244</td>\n",
       "      <td>0.33</td>\n",
       "    </tr>\n",
       "    <tr>\n",
       "      <th>1</th>\n",
       "      <td>Albarino</td>\n",
       "      <td>434</td>\n",
       "      <td>0.59</td>\n",
       "    </tr>\n",
       "    <tr>\n",
       "      <th>2</th>\n",
       "      <td>Chenin Blanc</td>\n",
       "      <td>543</td>\n",
       "      <td>0.74</td>\n",
       "    </tr>\n",
       "    <tr>\n",
       "      <th>3</th>\n",
       "      <td>Glera</td>\n",
       "      <td>596</td>\n",
       "      <td>0.81</td>\n",
       "    </tr>\n",
       "    <tr>\n",
       "      <th>4</th>\n",
       "      <td>Grenache</td>\n",
       "      <td>605</td>\n",
       "      <td>0.82</td>\n",
       "    </tr>\n",
       "    <tr>\n",
       "      <th>5</th>\n",
       "      <td>Viognier</td>\n",
       "      <td>919</td>\n",
       "      <td>1.25</td>\n",
       "    </tr>\n",
       "    <tr>\n",
       "      <th>6</th>\n",
       "      <td>Gewurztraminer</td>\n",
       "      <td>937</td>\n",
       "      <td>1.27</td>\n",
       "    </tr>\n",
       "    <tr>\n",
       "      <th>7</th>\n",
       "      <td>Pinot Grigio</td>\n",
       "      <td>978</td>\n",
       "      <td>1.33</td>\n",
       "    </tr>\n",
       "    <tr>\n",
       "      <th>8</th>\n",
       "      <td>Gruner Veltliner</td>\n",
       "      <td>1196</td>\n",
       "      <td>1.62</td>\n",
       "    </tr>\n",
       "    <tr>\n",
       "      <th>9</th>\n",
       "      <td>Tempranillo</td>\n",
       "      <td>2219</td>\n",
       "      <td>3.01</td>\n",
       "    </tr>\n",
       "    <tr>\n",
       "      <th>10</th>\n",
       "      <td>Malbec</td>\n",
       "      <td>2446</td>\n",
       "      <td>3.32</td>\n",
       "    </tr>\n",
       "    <tr>\n",
       "      <th>11</th>\n",
       "      <td>Sangiovese</td>\n",
       "      <td>2456</td>\n",
       "      <td>3.33</td>\n",
       "    </tr>\n",
       "    <tr>\n",
       "      <th>12</th>\n",
       "      <td>Zinfandel</td>\n",
       "      <td>2524</td>\n",
       "      <td>3.43</td>\n",
       "    </tr>\n",
       "    <tr>\n",
       "      <th>13</th>\n",
       "      <td>Nebbiolo</td>\n",
       "      <td>2594</td>\n",
       "      <td>3.52</td>\n",
       "    </tr>\n",
       "    <tr>\n",
       "      <th>14</th>\n",
       "      <td>Merlot</td>\n",
       "      <td>2887</td>\n",
       "      <td>3.92</td>\n",
       "    </tr>\n",
       "    <tr>\n",
       "      <th>15</th>\n",
       "      <td>Sauvignon Blanc</td>\n",
       "      <td>4545</td>\n",
       "      <td>6.17</td>\n",
       "    </tr>\n",
       "    <tr>\n",
       "      <th>16</th>\n",
       "      <td>Syrah</td>\n",
       "      <td>4606</td>\n",
       "      <td>6.25</td>\n",
       "    </tr>\n",
       "    <tr>\n",
       "      <th>17</th>\n",
       "      <td>Riesling</td>\n",
       "      <td>4759</td>\n",
       "      <td>6.46</td>\n",
       "    </tr>\n",
       "    <tr>\n",
       "      <th>18</th>\n",
       "      <td>Chardonnay</td>\n",
       "      <td>10779</td>\n",
       "      <td>14.63</td>\n",
       "    </tr>\n",
       "    <tr>\n",
       "      <th>19</th>\n",
       "      <td>Pinot Noir</td>\n",
       "      <td>12193</td>\n",
       "      <td>16.55</td>\n",
       "    </tr>\n",
       "    <tr>\n",
       "      <th>20</th>\n",
       "      <td>Cabernet Sauvignon</td>\n",
       "      <td>15199</td>\n",
       "      <td>20.63</td>\n",
       "    </tr>\n",
       "  </tbody>\n",
       "</table>\n",
       "</div>"
      ],
      "text/plain": [
       "              varietal  count  percent\n",
       "0            Garganega    244     0.33\n",
       "1             Albarino    434     0.59\n",
       "2         Chenin Blanc    543     0.74\n",
       "3                Glera    596     0.81\n",
       "4             Grenache    605     0.82\n",
       "5             Viognier    919     1.25\n",
       "6       Gewurztraminer    937     1.27\n",
       "7         Pinot Grigio    978     1.33\n",
       "8     Gruner Veltliner   1196     1.62\n",
       "9          Tempranillo   2219     3.01\n",
       "10              Malbec   2446     3.32\n",
       "11          Sangiovese   2456     3.33\n",
       "12           Zinfandel   2524     3.43\n",
       "13            Nebbiolo   2594     3.52\n",
       "14              Merlot   2887     3.92\n",
       "15     Sauvignon Blanc   4545     6.17\n",
       "16               Syrah   4606     6.25\n",
       "17            Riesling   4759     6.46\n",
       "18          Chardonnay  10779    14.63\n",
       "19          Pinot Noir  12193    16.55\n",
       "20  Cabernet Sauvignon  15199    20.63"
      ]
     },
     "execution_count": 139,
     "metadata": {},
     "output_type": "execute_result"
    }
   ],
   "source": [
    "targets = class_balance_analyzer(wine_slim, 'varietal', 'description')\n",
    "targets"
   ]
  },
  {
   "cell_type": "markdown",
   "metadata": {},
   "source": [
    "__________\n",
    "**Analysis of Class Distributions Plot**\n",
    "\n",
    "* There is some serious class imbalance within these 20 classes. \n",
    "\n",
    "**Approaches I will explore**\n",
    "\n",
    "* Downsampling. First approach is to eliminate values from larger classes in order to bring the data more into balance. \n",
    "* Second approach is to consider bootstrapping each column for the purpose of increasing the sample sizes. There are a number of ways to do this.  \n",
    "    * [SMOTE algorithm]('https://machinelearningmastery.com/smote-oversampling-for-imbalanced-classification/') \n",
    "    * [Cost-Sensitive Learning For Imbalanced Classification.]('https://machinelearningmastery.com/cost-sensitive-learning-for-imbalanced-classification/')\n",
    "    * [Cost_Sensitive Logistic Rgression for Imbalanced Classification ]('https://machinelearningmastery.com/cost-sensitive-logistic-regression/')\n",
    "    \n",
    "_________\n"
   ]
  },
  {
   "cell_type": "markdown",
   "metadata": {},
   "source": [
    "<a id='encode'></a>\n",
    "____\n",
    "## Label Encoding\n",
    "____"
   ]
  },
  {
   "cell_type": "code",
   "execution_count": 140,
   "metadata": {},
   "outputs": [],
   "source": [
    "def encode_workflow(target_series):\n",
    "    \n",
    "    original_targets = target_series.value_counts().index\n",
    "    \n",
    "    # Instantiate LabelEncoder(), fit label encoder and return encoded labels\n",
    "    encoded_targets = LabelEncoder().fit_transform(target_series)\n",
    "    \n",
    "    # create a df of target labels\n",
    "    encoded = pd.DataFrame(encoded_targets) \n",
    "    \n",
    "    # create a df that contains only the encoded df's value_counts()\n",
    "    encoded = encoded[0].value_counts()\n",
    "    \n",
    "    # reset the index so the class labels are no longer the index\n",
    "    encoded = encoded.reset_index()\n",
    "    \n",
    "    # rename columns for clarity\n",
    "    encoded.rename(columns = {'index': 'encoded_labels', 0: 'count'}, inplace = True)\n",
    "    \n",
    "    # creating a dictionary of original string labels for target variables\n",
    "    targ_dict = dict(zip(encoded['count'], original_targets))\n",
    "                     \n",
    "    # mapping original target names to encoded                 \n",
    "    encoded['target_label'] = encoded['count'].map(targ_dict)\n",
    "                     \n",
    "    # reordering columns\n",
    "    encoded = encoded.loc[ :, ['target_label', 'encoded_labels', 'count']]\n",
    "                     \n",
    "    # setting target labels as index\n",
    "    encoded = encoded.set_index('target_label')\n",
    "    \n",
    "    # sorting in numerical order based on encoded labels\n",
    "    encoded = pd.DataFrame(encoded['encoded_labels'].sort_values())\n",
    "    \n",
    "    # Instantiate LabelEncoder(), fit label encoder and return encoded labels\n",
    "    encoded_targets = LabelEncoder().fit_transform(target_series)\n",
    "                     \n",
    "    # printing out df. Transposing to reduce length in workbook\n",
    "    print(encoded)\n",
    "    \n",
    "    return encoded_targets"
   ]
  },
  {
   "cell_type": "code",
   "execution_count": 141,
   "metadata": {},
   "outputs": [
    {
     "name": "stdout",
     "output_type": "stream",
     "text": [
      "                    encoded_labels\n",
      "target_label                      \n",
      "Albarino                         0\n",
      "Cabernet Sauvignon               1\n",
      "Chardonnay                       2\n",
      "Chenin Blanc                     3\n",
      "Garganega                        4\n",
      "Gewurztraminer                   5\n",
      "Glera                            6\n",
      "Grenache                         7\n",
      "Gruner Veltliner                 8\n",
      "Malbec                           9\n",
      "Merlot                          10\n",
      "Nebbiolo                        11\n",
      "Pinot Grigio                    12\n",
      "Pinot Noir                      13\n",
      "Riesling                        14\n",
      "Sangiovese                      15\n",
      "Sauvignon Blanc                 16\n",
      "Syrah                           17\n",
      "Tempranillo                     18\n",
      "Viognier                        19\n",
      "Zinfandel                       20\n"
     ]
    },
    {
     "data": {
      "text/html": [
       "<div>\n",
       "<style scoped>\n",
       "    .dataframe tbody tr th:only-of-type {\n",
       "        vertical-align: middle;\n",
       "    }\n",
       "\n",
       "    .dataframe tbody tr th {\n",
       "        vertical-align: top;\n",
       "    }\n",
       "\n",
       "    .dataframe thead th {\n",
       "        text-align: right;\n",
       "    }\n",
       "</style>\n",
       "<table border=\"1\" class=\"dataframe\">\n",
       "  <thead>\n",
       "    <tr style=\"text-align: right;\">\n",
       "      <th></th>\n",
       "      <th>varietal</th>\n",
       "      <th>description</th>\n",
       "      <th>color</th>\n",
       "      <th>encoded</th>\n",
       "    </tr>\n",
       "  </thead>\n",
       "  <tbody>\n",
       "    <tr>\n",
       "      <th>0</th>\n",
       "      <td>Riesling</td>\n",
       "      <td>pineapple rind lemon pith blossom start bit op...</td>\n",
       "      <td>white</td>\n",
       "      <td>14</td>\n",
       "    </tr>\n",
       "  </tbody>\n",
       "</table>\n",
       "</div>"
      ],
      "text/plain": [
       "   varietal                                        description  color  encoded\n",
       "0  Riesling  pineapple rind lemon pith blossom start bit op...  white       14"
      ]
     },
     "execution_count": 141,
     "metadata": {},
     "output_type": "execute_result"
    }
   ],
   "source": [
    "# Creating label_counts df by calling the encode_workflow custom function\n",
    "wine_slim['encoded'] = encode_workflow(wine_slim['varietal'])\n",
    "\n",
    "wine_slim.head(1)"
   ]
  },
  {
   "cell_type": "markdown",
   "metadata": {},
   "source": [
    "<a id='downsample'></a>\n",
    "_____\n",
    "## Downsampling\n",
    "_____\n",
    "\n",
    "* Here I have created a custom function that analyzes all classes in a specified dataframe and column and reduces each class to a specified number n. "
   ]
  },
  {
   "cell_type": "code",
   "execution_count": 142,
   "metadata": {},
   "outputs": [],
   "source": [
    "def mass_downsampler(df, col_name, num_samples):\n",
    "    \n",
    "    old_df = pd.DataFrame(columns = df.columns)\n",
    "    \n",
    "    \n",
    "    # iterate through unique class labels in column\n",
    "    for class_name in df[col_name].unique():\n",
    "        \n",
    "        # create a sliced DF of just the class specified\n",
    "        new_df = df[df[col_name] == class_name]\n",
    "        \n",
    "        \n",
    "        # if new df less than num_samples add to old_df\n",
    "        if new_df.shape[0] <= num_samples:\n",
    "            old_df = pd.concat([old_df, new_df])\n",
    "            \n",
    "        # if column has more than num_samples then downsample it.     \n",
    "        if new_df.shape[0] > num_samples:\n",
    "            \n",
    "            # Create a sliced DF for each label \n",
    "            # Sample from sliced DF for num_samples number of times\n",
    "            down_df = new_df.sample(n = num_samples, random_state = 42)\n",
    "           \n",
    "            # concat down_df to old_df's\n",
    "            old_df = pd.concat([old_df, down_df])\n",
    "            old_df.reset_index(drop = True, inplace = True)\n",
    "            \n",
    "    return old_df"
   ]
  },
  {
   "cell_type": "code",
   "execution_count": 143,
   "metadata": {},
   "outputs": [
    {
     "data": {
      "text/html": [
       "<div>\n",
       "<style scoped>\n",
       "    .dataframe tbody tr th:only-of-type {\n",
       "        vertical-align: middle;\n",
       "    }\n",
       "\n",
       "    .dataframe tbody tr th {\n",
       "        vertical-align: top;\n",
       "    }\n",
       "\n",
       "    .dataframe thead th {\n",
       "        text-align: right;\n",
       "    }\n",
       "</style>\n",
       "<table border=\"1\" class=\"dataframe\">\n",
       "  <thead>\n",
       "    <tr style=\"text-align: right;\">\n",
       "      <th></th>\n",
       "      <th>varietal</th>\n",
       "      <th>description</th>\n",
       "      <th>color</th>\n",
       "      <th>encoded</th>\n",
       "    </tr>\n",
       "  </thead>\n",
       "  <tbody>\n",
       "    <tr>\n",
       "      <th>0</th>\n",
       "      <td>Riesling</td>\n",
       "      <td>earthy hovers nettle lemon balm aromatic lemon...</td>\n",
       "      <td>white</td>\n",
       "      <td>14</td>\n",
       "    </tr>\n",
       "  </tbody>\n",
       "</table>\n",
       "</div>"
      ],
      "text/plain": [
       "   varietal                                        description  color encoded\n",
       "0  Riesling  earthy hovers nettle lemon balm aromatic lemon...  white      14"
      ]
     },
     "execution_count": 143,
     "metadata": {},
     "output_type": "execute_result"
    }
   ],
   "source": [
    "down_df = mass_downsampler(wine_slim, 'varietal', 400)\n",
    "down_df.head(1)"
   ]
  },
  {
   "cell_type": "code",
   "execution_count": 144,
   "metadata": {},
   "outputs": [],
   "source": [
    "down_df['description'] = down_df['description'] + ' ' + down_df['color']"
   ]
  },
  {
   "cell_type": "markdown",
   "metadata": {},
   "source": [
    "<a id='spacy'></a>\n",
    "_________\n",
    "# Spacy NLP Processing\n",
    "\n",
    "* loading a pre-configured Spacy Pipeline that will take in text, tokenize it, tag it, parse it and apply named entity recognition. It then returns a 'doc' that I will populate in a new column called 'parsed'.\n",
    "\n",
    "This is an example of what Spacy is doing under the hood: \n",
    "\n",
    "![alt text](https://spacy.io/pipeline-fde48da9b43661abcdf62ab70a546d71.svg)\n",
    "\n",
    "graphic from www.Spacy.io documentation\n",
    "\n",
    "**Useful Spacy Methods**\n",
    "* token.lemma_\n",
    "* token.text\n",
    "* token.pos_\n",
    "* token.is_stop\n",
    "_______"
   ]
  },
  {
   "cell_type": "markdown",
   "metadata": {},
   "source": [
    "_____\n",
    "## Loading in Pre-configured Spacy Model.\n",
    "_____"
   ]
  },
  {
   "cell_type": "code",
   "execution_count": 145,
   "metadata": {},
   "outputs": [],
   "source": [
    "nlp = spacy.load('en_core_web_sm')"
   ]
  },
  {
   "cell_type": "markdown",
   "metadata": {},
   "source": [
    "**Applying Spacy pre-trained NLP model to Corpora**\n",
    "THIS TAKES A BIT OF TIME TO LOAD"
   ]
  },
  {
   "cell_type": "code",
   "execution_count": 146,
   "metadata": {},
   "outputs": [],
   "source": [
    "# applying the spacy model to preprocessed text.\n",
    "down_df['parsed'] = down_df['description'].apply(nlp)"
   ]
  },
  {
   "cell_type": "markdown",
   "metadata": {},
   "source": [
    "<a id='eda'></a>\n",
    "______\n",
    "# EDA\n",
    "_____"
   ]
  },
  {
   "cell_type": "markdown",
   "metadata": {},
   "source": [
    "<a id='displacy'></a>\n",
    "______\n",
    "## DisplaCy\n",
    "\n",
    "* Displacy is a dependency visualizer that lets you see the way SpaCy sets the parse and dependencies. \n",
    "* I may use this in a slide to show people how I can view the parser under the hood. \n",
    "______"
   ]
  },
  {
   "cell_type": "code",
   "execution_count": 147,
   "metadata": {},
   "outputs": [
    {
     "name": "stderr",
     "output_type": "stream",
     "text": [
      "/Users/jamesopacich/opt/anaconda3/lib/python3.8/site-packages/spacy/displacy/__init__.py:94: UserWarning: [W011] It looks like you're calling displacy.serve from within a Jupyter notebook or a similar environment. This likely means you're already running a local web server, so there's no need to make displaCy start another one. Instead, you should be able to replace displacy.serve with displacy.render to show the visualization.\n",
      "  warnings.warn(Warnings.W011)\n"
     ]
    },
    {
     "data": {
      "text/html": [
       "<span class=\"tex2jax_ignore\"><!DOCTYPE html><html lang=\"en\"><head><title>displaCy</title></head><body style=\"font-size: 16px; font-family: -apple-system, BlinkMacSystemFont, 'Segoe UI', Helvetica, Arial, sans-serif, 'Apple Color Emoji', 'Segoe UI Emoji', 'Segoe UI Symbol'; padding: 4rem 2rem; direction: ltr\"><figure style=\"margin-bottom: 6rem\"><svg xmlns=\"http://www.w3.org/2000/svg\" xmlns:xlink=\"http://www.w3.org/1999/xlink\" xml:lang=\"en\" id=\"031e183ceb944030942b345d220a800d-0\" class=\"displacy\" width=\"1250\" height=\"362.0\" direction=\"ltr\" style=\"max-width: none; height: 362.0px; color: white; background: #a300cc; font-family: Source Sans Pro; direction: ltr\"><text class=\"displacy-token\" fill=\"currentColor\" text-anchor=\"middle\" y=\"272.0\"><tspan class=\"displacy-word\" fill=\"currentColor\" x=\"50\">earthy</tspan><tspan class=\"displacy-tag\" dy=\"2em\" fill=\"currentColor\" x=\"50\">ADJ</tspan></text><text class=\"displacy-token\" fill=\"currentColor\" text-anchor=\"middle\" y=\"272.0\"><tspan class=\"displacy-word\" fill=\"currentColor\" x=\"200\">hovers</tspan><tspan class=\"displacy-tag\" dy=\"2em\" fill=\"currentColor\" x=\"200\">NOUN</tspan></text><text class=\"displacy-token\" fill=\"currentColor\" text-anchor=\"middle\" y=\"272.0\"><tspan class=\"displacy-word\" fill=\"currentColor\" x=\"350\">nettle</tspan><tspan class=\"displacy-tag\" dy=\"2em\" fill=\"currentColor\" x=\"350\">PROPN</tspan></text><text class=\"displacy-token\" fill=\"currentColor\" text-anchor=\"middle\" y=\"272.0\"><tspan class=\"displacy-word\" fill=\"currentColor\" x=\"500\">lemon</tspan><tspan class=\"displacy-tag\" dy=\"2em\" fill=\"currentColor\" x=\"500\">PROPN</tspan></text><text class=\"displacy-token\" fill=\"currentColor\" text-anchor=\"middle\" y=\"272.0\"><tspan class=\"displacy-word\" fill=\"currentColor\" x=\"650\">balm</tspan><tspan class=\"displacy-tag\" dy=\"2em\" fill=\"currentColor\" x=\"650\">PROPN</tspan></text><text class=\"displacy-token\" fill=\"currentColor\" text-anchor=\"middle\" y=\"272.0\"><tspan class=\"displacy-word\" fill=\"currentColor\" x=\"800\">aromatic</tspan><tspan class=\"displacy-tag\" dy=\"2em\" fill=\"currentColor\" x=\"800\">PROPN</tspan></text><text class=\"displacy-token\" fill=\"currentColor\" text-anchor=\"middle\" y=\"272.0\"><tspan class=\"displacy-word\" fill=\"currentColor\" x=\"950\">lemon</tspan><tspan class=\"displacy-tag\" dy=\"2em\" fill=\"currentColor\" x=\"950\">PROPN</tspan></text><text class=\"displacy-token\" fill=\"currentColor\" text-anchor=\"middle\" y=\"272.0\"><tspan class=\"displacy-word\" fill=\"currentColor\" x=\"1100\">freshness</tspan><tspan class=\"displacy-tag\" dy=\"2em\" fill=\"currentColor\" x=\"1100\">NOUN</tspan></text><g class=\"displacy-arrow\"><path class=\"displacy-arc\" id=\"arrow-031e183ceb944030942b345d220a800d-0-0\" stroke-width=\"2px\" d=\"M62,227.0 62,202.0 194.0,202.0 194.0,227.0\" fill=\"none\" stroke=\"currentColor\"/><text dy=\"1.25em\" style=\"font-size: 0.8em; letter-spacing: 1px\"><textPath xlink:href=\"#arrow-031e183ceb944030942b345d220a800d-0-0\" class=\"displacy-label\" startOffset=\"50%\" side=\"left\" fill=\"currentColor\" text-anchor=\"middle\">amod</textPath></text><path class=\"displacy-arrowhead\" d=\"M62,229.0 L58,221.0 66,221.0\" fill=\"currentColor\"/></g><g class=\"displacy-arrow\"><path class=\"displacy-arc\" id=\"arrow-031e183ceb944030942b345d220a800d-0-1\" stroke-width=\"2px\" d=\"M212,227.0 212,202.0 344.0,202.0 344.0,227.0\" fill=\"none\" stroke=\"currentColor\"/><text dy=\"1.25em\" style=\"font-size: 0.8em; letter-spacing: 1px\"><textPath xlink:href=\"#arrow-031e183ceb944030942b345d220a800d-0-1\" class=\"displacy-label\" startOffset=\"50%\" side=\"left\" fill=\"currentColor\" text-anchor=\"middle\">nsubj</textPath></text><path class=\"displacy-arrowhead\" d=\"M212,229.0 L208,221.0 216,221.0\" fill=\"currentColor\"/></g><g class=\"displacy-arrow\"><path class=\"displacy-arc\" id=\"arrow-031e183ceb944030942b345d220a800d-0-2\" stroke-width=\"2px\" d=\"M512,227.0 512,202.0 644.0,202.0 644.0,227.0\" fill=\"none\" stroke=\"currentColor\"/><text dy=\"1.25em\" style=\"font-size: 0.8em; letter-spacing: 1px\"><textPath xlink:href=\"#arrow-031e183ceb944030942b345d220a800d-0-2\" class=\"displacy-label\" startOffset=\"50%\" side=\"left\" fill=\"currentColor\" text-anchor=\"middle\">nmod</textPath></text><path class=\"displacy-arrowhead\" d=\"M512,229.0 L508,221.0 516,221.0\" fill=\"currentColor\"/></g><g class=\"displacy-arrow\"><path class=\"displacy-arc\" id=\"arrow-031e183ceb944030942b345d220a800d-0-3\" stroke-width=\"2px\" d=\"M662,227.0 662,152.0 1100.0,152.0 1100.0,227.0\" fill=\"none\" stroke=\"currentColor\"/><text dy=\"1.25em\" style=\"font-size: 0.8em; letter-spacing: 1px\"><textPath xlink:href=\"#arrow-031e183ceb944030942b345d220a800d-0-3\" class=\"displacy-label\" startOffset=\"50%\" side=\"left\" fill=\"currentColor\" text-anchor=\"middle\">amod</textPath></text><path class=\"displacy-arrowhead\" d=\"M662,229.0 L658,221.0 666,221.0\" fill=\"currentColor\"/></g><g class=\"displacy-arrow\"><path class=\"displacy-arc\" id=\"arrow-031e183ceb944030942b345d220a800d-0-4\" stroke-width=\"2px\" d=\"M812,227.0 812,177.0 1097.0,177.0 1097.0,227.0\" fill=\"none\" stroke=\"currentColor\"/><text dy=\"1.25em\" style=\"font-size: 0.8em; letter-spacing: 1px\"><textPath xlink:href=\"#arrow-031e183ceb944030942b345d220a800d-0-4\" class=\"displacy-label\" startOffset=\"50%\" side=\"left\" fill=\"currentColor\" text-anchor=\"middle\">amod</textPath></text><path class=\"displacy-arrowhead\" d=\"M812,229.0 L808,221.0 816,221.0\" fill=\"currentColor\"/></g><g class=\"displacy-arrow\"><path class=\"displacy-arc\" id=\"arrow-031e183ceb944030942b345d220a800d-0-5\" stroke-width=\"2px\" d=\"M962,227.0 962,202.0 1094.0,202.0 1094.0,227.0\" fill=\"none\" stroke=\"currentColor\"/><text dy=\"1.25em\" style=\"font-size: 0.8em; letter-spacing: 1px\"><textPath xlink:href=\"#arrow-031e183ceb944030942b345d220a800d-0-5\" class=\"displacy-label\" startOffset=\"50%\" side=\"left\" fill=\"currentColor\" text-anchor=\"middle\">compound</textPath></text><path class=\"displacy-arrowhead\" d=\"M962,229.0 L958,221.0 966,221.0\" fill=\"currentColor\"/></g></svg></figure></body></html></span>"
      ],
      "text/plain": [
       "<IPython.core.display.HTML object>"
      ]
     },
     "metadata": {},
     "output_type": "display_data"
    },
    {
     "name": "stdout",
     "output_type": "stream",
     "text": [
      "\n",
      "Using the 'dep' visualizer\n",
      "Serving on http://0.0.0.0:5000 ...\n",
      "\n",
      "Shutting down server on port 5000.\n"
     ]
    }
   ],
   "source": [
    "# An example of Displacy, just for fun\n",
    "options = {'compact': True, 'bg': '#a300cc',\n",
    "          'color': 'white', 'font': 'Source Sans Pro'}\n",
    "\n",
    "# This displays displacy only in Jupyter Notebook\n",
    "# displacy.render(down_df['parsed'][0][0:8], style = 'dep', page = True, jupyter = False, minify = True, options = options)\n",
    "\n",
    "# This will serve the chart to local host\n",
    "displacy.serve(down_df['parsed'][0][0:8], style = 'dep', page = True, minify = True, options = options)\n",
    "\n",
    "# Render as an SVG for presentation and display in Jupyter\n",
    "# svg = displacy.render(down_df['parsed'][0][0:8], style = 'dep', jupyter = False, \n",
    "#                       minify = True)\n",
    "# # Saving SVG to a file\n",
    "# output_path_displacy = Path('../presentation_media/displacy.svg')\n",
    "# output_path_displacy.open(\"w\", encoding = \"utf-8\").write(svg)"
   ]
  },
  {
   "cell_type": "markdown",
   "metadata": {},
   "source": [
    "<a id='ner'></a>\n",
    "________\n",
    "## SpaCy Named Entity Recognizer (NER)\n",
    "________"
   ]
  },
  {
   "cell_type": "code",
   "execution_count": 148,
   "metadata": {
    "scrolled": true
   },
   "outputs": [
    {
     "data": {
      "text/html": [
       "<span class=\"tex2jax_ignore\"><div class=\"entities\" style=\"line-height: 2.5; direction: ltr\">spry sheer exceptionally piercing tangerine flair lemon enlivens midpalate carrying \n",
       "<mark class=\"entity\" style=\"background: #7aecec; padding: 0.45em 0.6em; margin: 0 0.25em; line-height: 1; border-radius: 0.35em;\">\n",
       "    zesty electric\n",
       "    <span style=\"font-size: 0.8em; font-weight: bold; line-height: 1; border-radius: 0.35em; text-transform: uppercase; vertical-align: middle; margin-left: 0.5rem\">ORG</span>\n",
       "</mark>\n",
       " white</div></span>"
      ],
      "text/plain": [
       "<IPython.core.display.HTML object>"
      ]
     },
     "metadata": {},
     "output_type": "display_data"
    }
   ],
   "source": [
    "# Display only in Jupyter Notebook\n",
    "displacy.render(down_df['parsed'][100], style = 'ent')\n",
    "\n",
    "# Also serve a local browser\n",
    "# displacy.serve(down_df['parsed'][4800], style = 'ent', page = True)\n"
   ]
  },
  {
   "cell_type": "markdown",
   "metadata": {},
   "source": [
    "<a id='scatter'></a>\n",
    "_______\n",
    "##  Scattertext \n",
    "_____\n",
    "\n",
    "* Scattertext will only take the 'description' column that has not had the spaCy model applied to it. Parsed or tokenized data will not input into the Scattertext model. \n",
    "* I used Scattertext to analyze feature importance. The scaled F-score, found in the tool-tip of the interactive graphic. Scaled F-score is an indicator of distinctiveness of words. "
   ]
  },
  {
   "cell_type": "markdown",
   "metadata": {},
   "source": [
    "_____\n",
    "### Scattertext Between Red Wine and White Wine\n",
    "* You can find the output for this scattertext in the Scattertext folder found in the repository."
   ]
  },
  {
   "cell_type": "code",
   "execution_count": 150,
   "metadata": {},
   "outputs": [],
   "source": [
    "red_white_corpus = st.CorpusFromPandas(down_df,\n",
    "                             category_col='color',\n",
    "                             text_col='description',\n",
    "                             nlp=nlp).build()\n"
   ]
  },
  {
   "cell_type": "code",
   "execution_count": null,
   "metadata": {},
   "outputs": [],
   "source": [
    "# This function calls the plot\n",
    "html = produce_scattertext_explorer(red_white_corpus, \n",
    "                            category = 'red',\n",
    "                            category_name = 'Red Wine',\n",
    "                            not_category_name = 'White Wine', \n",
    "                            width_in_pixels=1200, \n",
    "                            show_characteristic = False,\n",
    "                            minimum_term_frequency = 5, )\n",
    "file = '../02_scattertext/red_white_scattertext.html'\n",
    "open(file, 'wb').write(html.encode('utf-8'))\n",
    "IFrame(src=file, width = 1400, height=1000)"
   ]
  },
  {
   "cell_type": "markdown",
   "metadata": {},
   "source": [
    "_______\n",
    "### Scattertext between Cab and Pinot\n",
    "* You can find the output for this scattertext in the Scattertext folder found in the repository."
   ]
  },
  {
   "cell_type": "code",
   "execution_count": null,
   "metadata": {
    "scrolled": true
   },
   "outputs": [],
   "source": [
    "cab_pinot = down_df[(down_df['varietal'] == 'Cabernet Sauvignon') | (down_df['varietal'] == 'Pinot Noir')]\n",
    "cab_pinot.head(1)"
   ]
  },
  {
   "cell_type": "code",
   "execution_count": null,
   "metadata": {},
   "outputs": [],
   "source": [
    "cab_pinot_corpus = st.CorpusFromPandas(cab_pinot,\n",
    "                             category_col='varietal',\n",
    "                             text_col='description',\n",
    "                             nlp=nlp).build()\n"
   ]
  },
  {
   "cell_type": "code",
   "execution_count": null,
   "metadata": {},
   "outputs": [],
   "source": [
    "# This function calls the plot\n",
    "html = produce_scattertext_explorer(cab_pinot_corpus, \n",
    "                            category = 'Cabernet Sauvignon',\n",
    "                            category_name = 'Cabernet Sauvignon',\n",
    "                            not_category_name = 'Pinot Noir', \n",
    "                            width_in_pixels=1200, \n",
    "                            show_characteristic = False,\n",
    "                            minimum_term_frequency = 5, )\n",
    "file = '../02_scattertext/cab_pinot.html'\n",
    "open(file, 'wb').write(html.encode('utf-8'))\n",
    "IFrame(src=file, width = 1400, height=1000)"
   ]
  },
  {
   "cell_type": "markdown",
   "metadata": {},
   "source": [
    "_______\n",
    "### Scattertext between Chardonnay and Riesling\n",
    "* You can find the output for this scattertext in the Scattertext folder found in the repository."
   ]
  },
  {
   "cell_type": "code",
   "execution_count": null,
   "metadata": {},
   "outputs": [],
   "source": [
    "chard_riesling = down_df[(down_df['varietal'] == 'Chardonnay') | (down_df['varietal'] == 'Riesling')]\n",
    "chard_riesling.head()"
   ]
  },
  {
   "cell_type": "code",
   "execution_count": null,
   "metadata": {},
   "outputs": [],
   "source": [
    "chard_riesling_corpus = st.CorpusFromPandas(chard_riesling,\n",
    "                             category_col='varietal',\n",
    "                             text_col='description',\n",
    "                             nlp=nlp).build()\n"
   ]
  },
  {
   "cell_type": "code",
   "execution_count": null,
   "metadata": {},
   "outputs": [],
   "source": [
    "# This function calls the plot\n",
    "html = produce_scattertext_explorer(chard_riesling_corpus, \n",
    "                            category = 'Chardonnay',\n",
    "                            category_name = 'Chardonnay',\n",
    "                            not_category_name = 'Riesling', \n",
    "                            width_in_pixels=1200, \n",
    "                            show_characteristic = False,\n",
    "                            minimum_term_frequency = 5, )\n",
    "file = '../02_scattertext/chard_riesling.html'\n",
    "open(file, 'wb').write(html.encode('utf-8'))\n",
    "IFrame(src=file, width = 1400, height=1000)"
   ]
  },
  {
   "cell_type": "markdown",
   "metadata": {},
   "source": [
    "<a id='frequency'></a>\n",
    "________\n",
    "# Frequency Vectorization\n",
    "_________\n",
    "\n",
    "\n",
    "___\n",
    "## Instantiating and Fitting Vectorizers\n",
    "_______"
   ]
  },
  {
   "cell_type": "code",
   "execution_count": 151,
   "metadata": {},
   "outputs": [],
   "source": [
    "red = down_df[down_df['color'] == 'red']              \n",
    "white = down_df[down_df['color'] == 'white']"
   ]
  },
  {
   "cell_type": "code",
   "execution_count": 152,
   "metadata": {},
   "outputs": [],
   "source": [
    "# Instantiating Count Vectorizers for each DF.\n",
    "cvec_red = CountVectorizer(ngram_range = (1,3))\n",
    "cvec_white = CountVectorizer(ngram_range = (1,3))"
   ]
  },
  {
   "cell_type": "code",
   "execution_count": 153,
   "metadata": {},
   "outputs": [],
   "source": [
    "# Fitting each Count Vectorizer\n",
    "red_vec = cvec_red.fit_transform(red['description'])\n",
    "white_vec = cvec_white.fit_transform(white['description'])"
   ]
  },
  {
   "cell_type": "markdown",
   "metadata": {},
   "source": [
    "<a id='topwords'></a>\n",
    "_______\n",
    "## Top Words\n",
    "________\n",
    "* After initial stop words removed\n",
    "* After basic preprocessing with CountVectorizer\n",
    "* Can do any amount of n words by adjusting n_words parameter. \n",
    "______"
   ]
  },
  {
   "cell_type": "code",
   "execution_count": 154,
   "metadata": {},
   "outputs": [],
   "source": [
    "def top_n_words(fitted_cnt_vect, count_vect, n_words):\n",
    "    # Function takes a fitted count vectorizer, \n",
    "    # an instantiated count_vect and number of words\n",
    "    # returns a DF of n number of top words and ngrams in descending order.\n",
    "    \n",
    "    sumd_vectors = fitted_cnt_vect.sum(axis = 0)\n",
    "    \n",
    "    word_freq = [(word, sumd_vectors[0, idx]) for word, idx in count_vect.vocabulary_.items()]\n",
    "    \n",
    "    top_words = sorted(word_freq, key = lambda x: x[1], reverse = True)[:n_words]\n",
    "    \n",
    "    top_words_df = pd.DataFrame(top_words)\n",
    "    \n",
    "    top_words_df.rename(columns = {0: 'word', 1: 'count'}, inplace = True)\n",
    "    \n",
    "    \n",
    "    return top_words_df\n",
    "    "
   ]
  },
  {
   "cell_type": "markdown",
   "metadata": {},
   "source": [
    "____\n",
    "**Top Words Red**"
   ]
  },
  {
   "cell_type": "code",
   "execution_count": 155,
   "metadata": {},
   "outputs": [],
   "source": [
    "red_50 = top_n_words(red_vec, cvec_red, 50)\n",
    "red_50; # remove semi-colon to view."
   ]
  },
  {
   "cell_type": "markdown",
   "metadata": {},
   "source": [
    "**Notes on Top 'Red' words**\n",
    "* Based on the top words I will be adding a few words to the custom stops list above: flavors, aromas, palate, offers, shows, like, alongside, flavor, feels, palate offers, delivers, mouthfeel"
   ]
  },
  {
   "cell_type": "markdown",
   "metadata": {},
   "source": [
    "**Top Words White**"
   ]
  },
  {
   "cell_type": "code",
   "execution_count": 156,
   "metadata": {},
   "outputs": [],
   "source": [
    "white_50 = top_n_words(white_vec, cvec_white, 50)\n",
    "white_50; # Remove semi-colon to view. "
   ]
  },
  {
   "cell_type": "markdown",
   "metadata": {},
   "source": [
    "**Notes on Top 'White' words**\n",
    "* Based om the top 25 words above I will be adding the following words to the stop words list: palate, but, has, its, very, while, shows, offers, through, flavor, hints, opens, palate offers, alongside, scents"
   ]
  },
  {
   "cell_type": "markdown",
   "metadata": {},
   "source": [
    "# Top 25 Words Chart"
   ]
  },
  {
   "cell_type": "code",
   "execution_count": 157,
   "metadata": {
    "scrolled": true
   },
   "outputs": [
    {
     "data": {
      "image/png": "[encoded data removed]",
      "text/plain": [
       "<Figure size 432x288 with 1 Axes>"
      ]
     },
     "metadata": {
      "needs_background": "light"
     },
     "output_type": "display_data"
    }
   ],
   "source": [
    "# indexing 1 thru 15 to eliminate the color of the wine. \n",
    "# I added the color as a feature that will be necessary for modeling.\n",
    "top_15_word = white_50['word'][1:15].sort_values(ascending = False)\n",
    "top_15_count = white_50['count'][1:15].sort_values(ascending = True)\n",
    "\n",
    "plt.barh(top_15_word, top_15_count, color = '#4E56FF')\n",
    "\n",
    "plt.xlabel('Word')\n",
    "plt.ylabel('Frequency in Corpus')\n",
    "plt.title('Top 15 Words for White Wines');"
   ]
  },
  {
   "cell_type": "code",
   "execution_count": 158,
   "metadata": {},
   "outputs": [
    {
     "data": {
      "image/png": "[encoded data removed]",
      "text/plain": [
       "<Figure size 432x288 with 1 Axes>"
      ]
     },
     "metadata": {
      "needs_background": "light"
     },
     "output_type": "display_data"
    }
   ],
   "source": [
    "# indexing 1 thru 15 to eliminate the color of the wine. \n",
    "# I added the color as a feature that will be necessary for modeling.\n",
    "top_15_word_red = red_50['word'][1:15].sort_values(ascending = False)\n",
    "top_15_count_red = red_50['count'][1:15].sort_values(ascending = True)\n",
    "\n",
    "plt.barh(top_15_word_red, top_15_count_red, color = '#8D241C')\n",
    "\n",
    "plt.xlabel('Word')\n",
    "plt.ylabel('Frequency in Corpus')\n",
    "plt.title('Top 15 Words for White Wines');"
   ]
  },
  {
   "cell_type": "markdown",
   "metadata": {},
   "source": [
    "Analysis of Top 15 Word Charts\n",
    "\n",
    "After stopwords are removed the top 15 words seem to be very descriptive and probably much more helpful in distinquishing between different types of wine. In future iterations of this project I will look at eliminating even more words. "
   ]
  },
  {
   "cell_type": "markdown",
   "metadata": {},
   "source": [
    "<a id='save'></a>\n",
    "______\n",
    "# Saving Pre-Processed `wine_df` to csv"
   ]
  },
  {
   "cell_type": "code",
   "execution_count": 161,
   "metadata": {},
   "outputs": [],
   "source": [
    "down_df.to_csv('../data/preprocessed_downsampled.csv', index = False)"
   ]
  },
  {
   "cell_type": "markdown",
   "metadata": {},
   "source": [
    "______\n",
    "### Saving `final_stops` to Pickle File\n",
    "______\n",
    "* Doing this so I can export the 22,000 word long stops list to the non-downsampled preprocessing notebook. "
   ]
  },
  {
   "cell_type": "code",
   "execution_count": 115,
   "metadata": {
    "scrolled": true
   },
   "outputs": [],
   "source": [
    "with open('../07_pickle_files/custom_stops.pkl', 'wb') as stops:\n",
    "...   pickle.dump(final_stops, stops, pickle.HIGHEST_PROTOCOL)"
   ]
  },
  {
   "cell_type": "markdown",
   "metadata": {},
   "source": [
    "_____\n",
    "# Next Steps\n",
    "\n",
    "* This notebook sends out a csv that has been completely preprocess with downsampled data. It will now be used in all modeling notebooks where downsampled data will be used. \n",
    "______"
   ]
  }
 ],
 "metadata": {
  "kernelspec": {
   "display_name": "Python 3",
   "language": "python",
   "name": "python3"
  },
  "language_info": {
   "codemirror_mode": {
    "name": "ipython",
    "version": 3
   },
   "file_extension": ".py",
   "mimetype": "text/x-python",
   "name": "python",
   "nbconvert_exporter": "python",
   "pygments_lexer": "ipython3",
   "version": "3.8.3"
  }
 },
 "nbformat": 4,
 "nbformat_minor": 4
}
